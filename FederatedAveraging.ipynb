{
 "cells": [
  {
   "cell_type": "code",
   "execution_count": 1,
   "metadata": {
    "id": "lguKMNWyYqnF"
   },
   "outputs": [],
   "source": [
    "import torch\n",
    "import torch.nn as nn\n",
    "import torch.optim as optim\n",
    "from torch.utils.data import DataLoader, Subset, random_split\n",
    "from torchvision import datasets, transforms\n",
    "import os"
   ]
  },
  {
   "cell_type": "code",
   "execution_count": 2,
   "metadata": {
    "id": "qSFFU0BWYucl"
   },
   "outputs": [],
   "source": [
    "batch_size = 50\n",
    "epochs = 5\n",
    "average_weight = [0.5, 0.5]\n",
    "\n",
    "root = './data'\n",
    "if not os.path.exists(root):\n",
    "    os.mkdir(root)\n",
    "\n",
    "transform = transforms.Compose([transforms.ToTensor(), transforms.Normalize((0.5,), (1.0,))])\n",
    "mnist = datasets.MNIST(root='./data', train=True, download=True, transform=transform)\n",
    "\n",
    "subset1, subset2, _ = random_split(mnist, [600, 600, len(mnist)-1200])\n",
    "\n",
    "loader1 = DataLoader(subset1, batch_size=batch_size, shuffle=True)\n",
    "loader2 = DataLoader(subset2, batch_size=batch_size, shuffle=True)"
   ]
  },
  {
   "cell_type": "code",
   "execution_count": 3,
   "metadata": {
    "id": "caoPD_X5Y35D"
   },
   "outputs": [],
   "source": [
    "class SimpleCNN(nn.Module):\n",
    "    def __init__(self):\n",
    "        super(SimpleCNN, self).__init__()\n",
    "        self.conv1 = nn.Conv2d(1, 32, kernel_size=3)\n",
    "        self.conv2 = nn.Conv2d(32, 64, kernel_size=3)\n",
    "        self.fc1 = nn.Linear(64*24*24, 128)\n",
    "        self.fc2 = nn.Linear(128, 10)\n",
    "        self.drop = nn.Dropout(0.8)\n",
    "\n",
    "    def forward(self, x):\n",
    "        x = torch.relu(self.conv1(x))\n",
    "        x = torch.relu(self.conv2(x))\n",
    "        x = self.drop(x)\n",
    "        x = x.view(-1, 64*24*24)\n",
    "        x = torch.relu(self.fc1(x))\n",
    "        x = self.fc2(x)\n",
    "        return x"
   ]
  },
  {
   "cell_type": "code",
   "execution_count": 4,
   "metadata": {
    "id": "F6L8KIPTZAwY"
   },
   "outputs": [],
   "source": [
    "model1 = SimpleCNN()\n",
    "model2 = SimpleCNN()"
   ]
  },
  {
   "cell_type": "code",
   "execution_count": 5,
   "metadata": {
    "id": "Z6seEhLXfTAA"
   },
   "outputs": [],
   "source": [
    "from collections.abc import Iterator\n",
    "def average_model_parameters(models: Iterator, average_weight: Iterator) -> Iterator:\n",
    "  averaged_model = SimpleCNN()\n",
    "  for name, param in averaged_model.named_parameters():\n",
    "    param.data.copy_(torch.zeros_like(param.data))\n",
    "    for i, model in enumerate(models):\n",
    "      param.data += average_weight[i] * model.state_dict()[name]\n",
    "    yield param"
   ]
  },
  {
   "cell_type": "code",
   "execution_count": 6,
   "metadata": {
    "id": "4KAI-9uZfg82"
   },
   "outputs": [],
   "source": [
    "def update_model_parameters(model, new_parameters):\n",
    "  i = 0\n",
    "  for name, param in model.named_parameters():\n",
    "    param.data = torch.nn.Parameter(torch.tensor(new_parameters[i]))\n",
    "    i += 1"
   ]
  },
  {
   "cell_type": "code",
   "execution_count": 7,
   "metadata": {
    "colab": {
     "base_uri": "https://localhost:8080/"
    },
    "id": "-8IzZ6qdnmNC",
    "outputId": "7e5880e8-e6ed-47f9-b155-466d8a33c980"
   },
   "outputs": [
    {
     "name": "stdout",
     "output_type": "stream",
     "text": [
      "Accuracy of model1: 11.666666666666666%\n",
      "Accuracy of model2: 6.833333333333333%\n"
     ]
    }
   ],
   "source": [
    "def test_model(model, loader):\n",
    "  model.eval()\n",
    "  correct = 0\n",
    "  total = 0\n",
    "  with torch.no_grad():\n",
    "    for images, labels in loader:\n",
    "      outputs = model(images)\n",
    "      _, predicted = torch.max(outputs.data, 1)\n",
    "      total += labels.size(0)\n",
    "      correct += (predicted == labels).sum().item()\n",
    "\n",
    "  accuracy = 100 * correct / total\n",
    "  return accuracy\n",
    "\n",
    "accuracy_model1 = test_model(model1, loader1)\n",
    "print(f\"Accuracy of model1: {accuracy_model1}%\")\n",
    "\n",
    "accuracy_model2 = test_model(model2, loader2)\n",
    "print(f\"Accuracy of model2: {accuracy_model2}%\")"
   ]
  },
  {
   "cell_type": "code",
   "execution_count": 8,
   "metadata": {
    "id": "2j4s21Eqgm2Z"
   },
   "outputs": [],
   "source": [
    "def algorithm_1(model1, model2, loader1, loader2):\n",
    "    optimizer1 = optim.Adam(model1.parameters())\n",
    "    optimizer2 = optim.Adam(model2.parameters())\n",
    "    criterion = nn.CrossEntropyLoss()\n",
    "\n",
    "    for epoch in range(epochs):\n",
    "        model1.train()\n",
    "        for images, labels in loader1:\n",
    "            optimizer1.zero_grad()\n",
    "            outputs = model1(images)\n",
    "            loss = criterion(outputs, labels)\n",
    "            loss.backward()\n",
    "            optimizer1.step()\n",
    "\n",
    "        model2.train()\n",
    "        for images, labels in loader2:\n",
    "            optimizer2.zero_grad()\n",
    "            outputs = model2(images)\n",
    "            loss = criterion(outputs, labels)\n",
    "            loss.backward()\n",
    "            optimizer2.step()\n",
    "\n",
    "        averaged_parameters = list(average_model_parameters([model1, model2], average_weight))\n",
    "\n",
    "        update_model_parameters(model1, averaged_parameters)\n",
    "        update_model_parameters(model2, averaged_parameters)\n",
    "\n",
    "    return model1, model2"
   ]
  },
  {
   "cell_type": "code",
   "execution_count": 9,
   "metadata": {
    "colab": {
     "base_uri": "https://localhost:8080/"
    },
    "id": "EDTyxGaOg1vw",
    "outputId": "21c32711-7588-4dc1-a73b-ef437e6addb3"
   },
   "outputs": [
    {
     "name": "stderr",
     "output_type": "stream",
     "text": [
      "<ipython-input-6-952ca0b23727>:4: UserWarning: To copy construct from a tensor, it is recommended to use sourceTensor.clone().detach() or sourceTensor.clone().detach().requires_grad_(True), rather than torch.tensor(sourceTensor).\n",
      "  param.data = torch.nn.Parameter(torch.tensor(new_parameters[i]))\n"
     ]
    },
    {
     "data": {
      "text/plain": [
       "(SimpleCNN(\n",
       "   (conv1): Conv2d(1, 32, kernel_size=(3, 3), stride=(1, 1))\n",
       "   (conv2): Conv2d(32, 64, kernel_size=(3, 3), stride=(1, 1))\n",
       "   (fc1): Linear(in_features=36864, out_features=128, bias=True)\n",
       "   (fc2): Linear(in_features=128, out_features=10, bias=True)\n",
       "   (drop): Dropout(p=0.8, inplace=False)\n",
       " ),\n",
       " SimpleCNN(\n",
       "   (conv1): Conv2d(1, 32, kernel_size=(3, 3), stride=(1, 1))\n",
       "   (conv2): Conv2d(32, 64, kernel_size=(3, 3), stride=(1, 1))\n",
       "   (fc1): Linear(in_features=36864, out_features=128, bias=True)\n",
       "   (fc2): Linear(in_features=128, out_features=10, bias=True)\n",
       "   (drop): Dropout(p=0.8, inplace=False)\n",
       " ))"
      ]
     },
     "execution_count": 9,
     "metadata": {},
     "output_type": "execute_result"
    }
   ],
   "source": [
    "algorithm_1(model1, model2, loader1, loader2)"
   ]
  },
  {
   "cell_type": "code",
   "execution_count": 10,
   "metadata": {
    "colab": {
     "base_uri": "https://localhost:8080/"
    },
    "id": "ZbW-pXoznm1O",
    "outputId": "a24a6d5a-a955-4cb9-9c2e-6f43e05833e5"
   },
   "outputs": [
    {
     "name": "stdout",
     "output_type": "stream",
     "text": [
      "Accuracy of model1: 93.5%\n",
      "Accuracy of model2: 92.0%\n"
     ]
    }
   ],
   "source": [
    "accuracy_model1 = test_model(model1, loader1)\n",
    "print(f\"Accuracy of model1: {accuracy_model1}%\")\n",
    "\n",
    "accuracy_model2 = test_model(model2, loader2)\n",
    "print(f\"Accuracy of model2: {accuracy_model2}%\")"
   ]
  },
  {
   "cell_type": "code",
   "execution_count": 10,
   "metadata": {
    "id": "cRmAxKI6o_If"
   },
   "outputs": [],
   "source": []
  }
 ],
 "metadata": {
  "colab": {
   "provenance": []
  },
  "kernelspec": {
   "display_name": "Python 3 (ipykernel)",
   "language": "python",
   "name": "python3"
  },
  "language_info": {
   "codemirror_mode": {
    "name": "ipython",
    "version": 3
   },
   "file_extension": ".py",
   "mimetype": "text/x-python",
   "name": "python",
   "nbconvert_exporter": "python",
   "pygments_lexer": "ipython3",
   "version": "3.12.3"
  }
 },
 "nbformat": 4,
 "nbformat_minor": 4
}
