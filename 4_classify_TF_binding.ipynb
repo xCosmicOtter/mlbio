{
  "cells": [
    {
      "cell_type": "markdown",
      "metadata": {
        "id": "BpI9eESpkREM"
      },
      "source": [
        "# Ex1: Onehot coding DNA\n",
        "\n",
        "Write a function called **onehot_dna(dna_str)** that allows to encode a DNA segment where each base is encoded as a vector of all zeros except one in a specific position. The result of this function is an array numpy.  DNA is a long chain of repeating bases strung together. There are 4 bases: A, C, G, T. For example, \"AACCCAAATCGGGGG\" is a DNA segment.\n",
        "\n",
        "\n",
        "\n",
        "For example, **onehot_dna('AAT')** should return\n",
        "\n",
        "array([[1, 0, 0, 0],\n",
        "       [1, 0, 0, 0],\n",
        "       [0, 0, 0, 1]])\n",
        "\n",
        "\n",
        "\n",
        "\n"
      ]
    },
    {
      "cell_type": "code",
      "execution_count": 3,
      "metadata": {
        "id": "YbhaCZP1moii"
      },
      "outputs": [],
      "source": [
        "import numpy as np\n",
        "def onehot_dna(dna_str):\n",
        "  A = [1, 0, 0, 0]\n",
        "  C = [0, 1, 0, 0]\n",
        "  G = [0, 0, 1, 0]\n",
        "  T = [0, 0, 0, 1]\n",
        "  res = []\n",
        "  for letter in dna_str:\n",
        "    if letter == 'A':\n",
        "      res.append(A)\n",
        "    elif letter == 'C':\n",
        "      res.append(C)\n",
        "    elif letter == 'G':\n",
        "      res.append(G)\n",
        "    elif letter == 'T':\n",
        "      res.append(T)\n",
        "  return np.array(res)"
      ]
    },
    {
      "cell_type": "code",
      "execution_count": 4,
      "metadata": {
        "colab": {
          "base_uri": "https://localhost:8080/"
        },
        "id": "WM-BaQiGo82A",
        "outputId": "2f695de5-31b6-40d6-a9f5-dd83e316364f"
      },
      "outputs": [
        {
          "output_type": "execute_result",
          "data": {
            "text/plain": [
              "array([[1, 0, 0, 0],\n",
              "       [1, 0, 0, 0],\n",
              "       [0, 0, 0, 1]])"
            ]
          },
          "metadata": {},
          "execution_count": 4
        }
      ],
      "source": [
        "onehot_dna('AAT')"
      ]
    },
    {
      "cell_type": "markdown",
      "metadata": {
        "id": "AkSQo19z60n1"
      },
      "source": [
        "# Deep learning to classify Transcription Factor Biding\n",
        "\n",
        "\n",
        "In the next exercises, we will learn how to use Deep learning to predict whether a segment of DNA does include or does not include a sit where JUND binds. (JUND is a particular transcription factor).\n",
        "\n",
        "In this purpose, we will use data that is extracted from the chapter 6 of the book: 'Deep learning for the life science'. This book is written by B.Ramsundar, P.Eastman, P. Walters and V.Pande.\n",
        "\n"
      ]
    },
    {
      "cell_type": "markdown",
      "metadata": {
        "id": "Edk7To2znbgt"
      },
      "source": [
        "By looking at the Wikipedia page of the Jund transcription factor, explain what is the use of such protein"
      ]
    },
    {
      "cell_type": "code",
      "execution_count": null,
      "metadata": {
        "id": "2SLk2a0Gnbgv"
      },
      "outputs": [],
      "source": []
    },
    {
      "cell_type": "markdown",
      "metadata": {
        "id": "Ninzzy5enbgw"
      },
      "source": [
        "\n",
        "Data consist of DNA segments that have been split up from a full chromosome. Each segment is of 101 bases long and has been labeled to indicate whether it does or does not include a site where JUND binds to.\n",
        "\n",
        "\n",
        "This is a binary classification problem.\n",
        "The process of creating a PyTorch neural network binary classifier consists of several steps:\n",
        "\n",
        "1. Prepare the training and test data\n",
        "\n",
        "2. Implement a Dataset object to serve up the data\n",
        "\n",
        "3. Design and implement a neural network\n",
        "\n",
        "4. Write code to train the network\n",
        "\n",
        "5. Write code to evaluate the model (the trained network)\n"
      ]
    },
    {
      "cell_type": "markdown",
      "metadata": {
        "id": "XS8a5oOmOjqO"
      },
      "source": [
        "# Ex 2:  Load Data\n",
        "\n",
        "The data is available here : https://drive.google.com/drive/folders/1-nrTvNvEZo6Px1pnT7IeotKZR7p365UJ?usp=sharing\n",
        "\n",
        "1. With the help of the joblib library, load the following files for training set:  **y_train.joblib**, **X_train.joblib**  and then store the results in variables **y_train, X_train** ,respectively.\n",
        "\n",
        "2. Do the same thing for the test set: load  **y_test.joblib**, **X_test.joblib**  and then store the results in variables **y_test, X_test**, respectively.\n",
        "\n",
        "3. What are the shape of **X_train** and **y_train** ? How many DNA segments are there in traning set ?\n",
        "\n",
        "4. Display a DNA segment from **X_train** (using matplotlib.pyplot.imshow ).\n",
        "\n",
        "5. Plot the histogram of **y_train** to see whether data is imbalanced or not.\n"
      ]
    },
    {
      "cell_type": "code",
      "execution_count": 5,
      "metadata": {
        "id": "NB5Y5StQezcZ"
      },
      "outputs": [],
      "source": [
        "import joblib\n",
        "import matplotlib.pyplot as plt\n",
        "import torch\n",
        "\n",
        "X_train = joblib.load('X_train.joblib')\n",
        "y_train = joblib.load('y_train.joblib')\n",
        "\n",
        "X_test = joblib.load('X_test.joblib')\n",
        "y_test = joblib.load('y_test.joblib')\n"
      ]
    },
    {
      "cell_type": "code",
      "execution_count": 6,
      "metadata": {
        "id": "FMLs0OOTV4E5"
      },
      "outputs": [],
      "source": [
        "''' Tests X_train, y_train '''\n",
        "assert(X_train.shape == (4672, 101, 4))\n",
        "assert(y_train.shape ==(4672, 1))\n",
        "\n"
      ]
    },
    {
      "cell_type": "code",
      "execution_count": 6,
      "metadata": {
        "id": "9g9rlIr2AAy6"
      },
      "outputs": [],
      "source": []
    },
    {
      "cell_type": "code",
      "execution_count": 7,
      "metadata": {
        "id": "RO7DeSen_W_h"
      },
      "outputs": [],
      "source": [
        "''' Tests X_test, y_test'''\n",
        "assert(X_test.shape == (584, 101, 4))\n",
        "assert(y_test.shape ==(584, 1))\n"
      ]
    },
    {
      "cell_type": "code",
      "execution_count": 8,
      "metadata": {
        "colab": {
          "base_uri": "https://localhost:8080/"
        },
        "id": "TceRZcS3MENp",
        "outputId": "ba59580a-2d21-474e-e43f-77be425b9c48"
      },
      "outputs": [
        {
          "output_type": "stream",
          "name": "stdout",
          "text": [
            "shape X_train (4672, 101, 4)\n",
            "shape y_train (4672, 1)\n"
          ]
        }
      ],
      "source": [
        "print(\"shape X_train\", X_train.shape)\n",
        "print(\"shape y_train\", y_train.shape)"
      ]
    },
    {
      "cell_type": "code",
      "source": [
        "plt.imshow(X_train[0])"
      ],
      "metadata": {
        "colab": {
          "base_uri": "https://localhost:8080/",
          "height": 471
        },
        "id": "OSv_S_CbqM1e",
        "outputId": "be2c0cce-14b2-4ab9-c992-37330ef5ff5d"
      },
      "execution_count": 9,
      "outputs": [
        {
          "output_type": "execute_result",
          "data": {
            "text/plain": [
              "<matplotlib.image.AxesImage at 0x7d78891b2da0>"
            ]
          },
          "metadata": {},
          "execution_count": 9
        },
        {
          "output_type": "display_data",
          "data": {
            "text/plain": [
              "<Figure size 640x480 with 1 Axes>"
            ],
            "image/png": "[encoded data removed]"
          },
          "metadata": {}
        }
      ]
    },
    {
      "cell_type": "code",
      "source": [
        "plt.hist(y_train)"
      ],
      "metadata": {
        "colab": {
          "base_uri": "https://localhost:8080/",
          "height": 522
        },
        "id": "ZWk8WW7ZqUH1",
        "outputId": "14bfc12f-2c26-48e2-bfb0-153b22b2fd26"
      },
      "execution_count": 10,
      "outputs": [
        {
          "output_type": "execute_result",
          "data": {
            "text/plain": [
              "(array([3504.,    0.,    0.,    0.,    0.,    0.,    0.,    0.,    0.,\n",
              "        1168.]),\n",
              " array([0. , 0.1, 0.2, 0.3, 0.4, 0.5, 0.6, 0.7, 0.8, 0.9, 1. ]),\n",
              " <BarContainer object of 10 artists>)"
            ]
          },
          "metadata": {},
          "execution_count": 10
        },
        {
          "output_type": "display_data",
          "data": {
            "text/plain": [
              "<Figure size 640x480 with 1 Axes>"
            ],
            "image/png": "[encoded data removed]"
          },
          "metadata": {}
        }
      ]
    },
    {
      "cell_type": "markdown",
      "metadata": {
        "id": "EajNPJrnAmde"
      },
      "source": [
        "# Ex 3: Convert numpy array to tensor pytorch\n",
        "\n",
        "As you see in the previous exercise, **X_train** consists of 4672 segments. Each segment is encoded by 0 and 1 (one-hot encoding).\n",
        "\n",
        "\n",
        "1. Convert numpy array **X_train**, **y_train** into pytorch tensor. Reshape **X_train** to (4672, 4, 101). Note that the type of **X_train** and **y_train** should be float.\n",
        "\n",
        "2. Do the same thing for **X_test** and **y_test**\n"
      ]
    },
    {
      "cell_type": "code",
      "execution_count": 17,
      "metadata": {
        "id": "E8eedW_yPUKu"
      },
      "outputs": [],
      "source": [
        "X_train_ts = torch.tensor(X_train, dtype = torch.float).reshape(4672, 4, 101)\n",
        "y_train_ts = torch.tensor(y_train, dtype = torch.float)\n",
        "\n",
        "X_test_ts = torch.tensor(X_test, dtype = torch.float).reshape(584,4,101)\n",
        "y_test_ts = torch.tensor(y_test, dtype = torch.float)"
      ]
    },
    {
      "cell_type": "code",
      "execution_count": 18,
      "metadata": {
        "id": "GrBcHzR-E-yR"
      },
      "outputs": [],
      "source": [
        "''' Tests X_train_ts, y_train_ts '''\n",
        "assert(type(X_train_ts) is torch.Tensor)\n",
        "assert(type(y_train_ts) is torch.Tensor)\n",
        "assert(X_train_ts.shape == (4672, 4, 101))\n"
      ]
    },
    {
      "cell_type": "code",
      "execution_count": 18,
      "metadata": {
        "id": "Wn_0dOuVHWhs"
      },
      "outputs": [],
      "source": []
    },
    {
      "cell_type": "code",
      "execution_count": 19,
      "metadata": {
        "id": "o_it3skAH0Yt"
      },
      "outputs": [],
      "source": [
        "''' Tests the above ToDo. '''\n",
        "assert(type(X_test_ts) is torch.Tensor)\n",
        "assert(type(y_test_ts) is torch.Tensor)\n",
        "assert(X_test_ts.shape == (584, 4, 101))\n"
      ]
    },
    {
      "cell_type": "markdown",
      "metadata": {
        "id": "mEYJBjBdg547"
      },
      "source": [
        "# Ex4: Create Dataset\n",
        "In order to train a deep learning model with Pytorch, we need a pytorch dataset.\n",
        "The DNADataset class below allows for creating a pytorch Dataset from DNA segments and their labels.\n",
        "\n",
        "1. Using this class, create a dataset for training set. You should call it **train_dataset**\n",
        "\n",
        "2. Create **Dataloader** from **train_dataset**. You should call it **train_loader**.\n",
        "\n",
        "3. Do the same thing for the test set."
      ]
    },
    {
      "cell_type": "code",
      "execution_count": 20,
      "metadata": {
        "id": "GkvyOQVggLz_"
      },
      "outputs": [],
      "source": [
        "class DNADataset(torch.utils.data.Dataset):\n",
        "    def __init__(self, dna, labels):\n",
        "        self.labels = labels\n",
        "        self.dna = dna\n",
        "\n",
        "\n",
        "    def __len__(self):\n",
        "        return len(self.labels)\n",
        "\n",
        "\n",
        "    def __getitem__(self, idx):\n",
        "        label = self.labels[idx]\n",
        "        frag_dna = self.dna[idx]\n",
        "\n",
        "        sample = {'DNA': frag_dna, 'Class': label}\n",
        "\n",
        "        return sample"
      ]
    },
    {
      "cell_type": "code",
      "source": [
        "train_dataset = DNADataset(X_train_ts, y_train_ts)\n",
        "train_loader = torch.utils.data.DataLoader(train_dataset, batch_size = 32, shuffle = True)"
      ],
      "metadata": {
        "id": "24WzPmR-sSXK"
      },
      "execution_count": 21,
      "outputs": []
    },
    {
      "cell_type": "markdown",
      "metadata": {
        "id": "O_d7J-rFbiig"
      },
      "source": [
        "**train_loader** is a generator. To get data out of it, you need to loop through it or convert it to an iterator and call next()"
      ]
    },
    {
      "cell_type": "code",
      "execution_count": 22,
      "metadata": {
        "colab": {
          "base_uri": "https://localhost:8080/"
        },
        "id": "PJQK0ZaLMpKF",
        "outputId": "65b05738-0f68-4e96-8289-133e14e49ab0"
      },
      "outputs": [
        {
          "output_type": "stream",
          "name": "stdout",
          "text": [
            "a batch data  torch.Size([32, 4, 101])\n",
            "Shape of label torch.Size([32, 1])\n"
          ]
        }
      ],
      "source": [
        "# Run this to test your data loader\n",
        "data = next(iter(train_loader))\n",
        "dna = data['DNA']\n",
        "label = data['Class']\n",
        "print(\"a batch data \", dna.shape)\n",
        "print(\"Shape of label\", label.shape)"
      ]
    },
    {
      "cell_type": "markdown",
      "metadata": {
        "id": "VDcbP17Rb2xt"
      },
      "source": [
        "# Design and implement a convolutional neural network\n",
        "\n",
        "Now, it's time to build your model. This is a binary classification problem. We can use a convolution neural network, just like an image classification problem. However, since the size of a DNA segment is (4, 101), we will use 1D convolution instead of 2D convolution.\n",
        "\n",
        "\n",
        "\n",
        "Firstly, we will test how does a 1D convolution work on our data.\n",
        "\n"
      ]
    },
    {
      "cell_type": "markdown",
      "metadata": {
        "id": "xlPP4E3UfRYe"
      },
      "source": [
        "# EX 5: 1D Convolution\n",
        "\n",
        "1. With the help of the torch.nn.Conv1d class, create a 1D convolutional layer. You need to choose values for the following parameters: **in_channels**, **out_channels**, **kernel_size**.\n",
        "\n",
        "\n",
        "2. Apply this layer to **dna_seg** below. What is the size of the output ?\n",
        "\n",
        "\n",
        "3. [Optional] Display the output by using matplotlib.pyplot.imshow\n",
        "\n",
        "\n"
      ]
    },
    {
      "cell_type": "code",
      "execution_count": 23,
      "metadata": {
        "id": "C9y0yRXhhj1F"
      },
      "outputs": [],
      "source": [
        "data = next(iter(train_loader))\n",
        "dna_seg = data['DNA']\n",
        "y = data['Class']"
      ]
    },
    {
      "cell_type": "code",
      "execution_count": 31,
      "metadata": {
        "colab": {
          "base_uri": "https://localhost:8080/"
        },
        "id": "FJ9uE489imxl",
        "outputId": "8e6d724f-be76-43bd-8cbe-2311eb3cc69e"
      },
      "outputs": [
        {
          "output_type": "stream",
          "name": "stdout",
          "text": [
            "Output shape: torch.Size([32, 16, 99])\n"
          ]
        }
      ],
      "source": [
        "\n",
        "cnn_1d = torch.nn.Conv1d(in_channels=4, out_channels=16, kernel_size=3)\n",
        "output = cnn_1d(dna_seg)\n",
        "print(\"Output shape:\",output.shape)"
      ]
    },
    {
      "cell_type": "markdown",
      "metadata": {
        "id": "H26rAy0wkbca"
      },
      "source": [
        "# EX 6: Build a model\n",
        "\n",
        "Create a 3 layer 1-dimensional network to classify the TF binding sites"
      ]
    },
    {
      "cell_type": "code",
      "source": [
        "import torch.nn as nn\n",
        "import torch.nn.functional as F\n",
        "\n",
        "class DeepDNA(nn.Module):\n",
        "  def __init__(self, input_size):\n",
        "    super(DeepDNA, self).__init__()\n",
        "    self.conv1 = nn.Conv1d(in_channels=4, out_channels=16, kernel_size=5)\n",
        "    self.conv2 = nn.Conv1d(in_channels=16, out_channels=32, kernel_size=5)\n",
        "    self.conv3 = nn.Conv1d(in_channels=32, out_channels=64, kernel_size=5)\n",
        "    self.fc1 = nn.Linear(5696, 128)\n",
        "    self.fc2 = nn.Linear(128, 1)\n",
        "\n",
        "  def forward(self, x):\n",
        "    x = F.relu(self.conv1(x))\n",
        "    x = F.relu(self.conv2(x))\n",
        "    x = F.relu(self.conv3(x))\n",
        "    x = x.view(-1, 64 * 89)\n",
        "    x = F.relu(self.fc1(x))\n",
        "    x = torch.sigmoid(self.fc2(x))\n",
        "    return x\n",
        "\n"
      ],
      "metadata": {
        "id": "aKA8UAfNxEIn"
      },
      "execution_count": 79,
      "outputs": []
    },
    {
      "cell_type": "markdown",
      "metadata": {
        "id": "HVbFqM4laclu"
      },
      "source": [
        "# Ex 7 Test the model\n",
        "\n",
        "\n",
        "1. Create an instance of the DeepDNA class named **net**.\n",
        "\n",
        "2. Print out the variable **net** to see detailed information about the model.\n",
        "\n",
        "3. Pass **dna_seg** below to **net** in order to  test if your model **net** works well.\n",
        "\n",
        "4. What is the size of the output ?\n",
        "\n"
      ]
    },
    {
      "cell_type": "code",
      "execution_count": 80,
      "metadata": {
        "colab": {
          "base_uri": "https://localhost:8080/"
        },
        "id": "ladQCir7btvX",
        "outputId": "b74125fe-61e2-4610-951e-4dd77b3051a8"
      },
      "outputs": [
        {
          "output_type": "stream",
          "name": "stdout",
          "text": [
            "the output of the model  tensor([[0.5031],\n",
            "        [0.5030],\n",
            "        [0.5037],\n",
            "        [0.5025],\n",
            "        [0.5022]], grad_fn=<SliceBackward0>)\n"
          ]
        }
      ],
      "source": [
        "#data = next(iter(train_loader))\n",
        "dna_seg = data['DNA']\n",
        "\n",
        "##### TO DO #######\n",
        "\n",
        "net = DeepDNA(101)\n",
        "out = net(dna_seg)\n",
        "\n",
        "print(\"the output of the model \", out[:5])\n",
        "\n"
      ]
    },
    {
      "cell_type": "code",
      "execution_count": 81,
      "metadata": {
        "colab": {
          "base_uri": "https://localhost:8080/"
        },
        "id": "RFzp7DbtlTwG",
        "outputId": "ef8f86c4-95fd-4fc8-8682-3c3fe8d841ed"
      },
      "outputs": [
        {
          "output_type": "stream",
          "name": "stdout",
          "text": [
            "DeepDNA(\n",
            "  (conv1): Conv1d(4, 16, kernel_size=(5,), stride=(1,))\n",
            "  (conv2): Conv1d(16, 32, kernel_size=(5,), stride=(1,))\n",
            "  (conv3): Conv1d(32, 64, kernel_size=(5,), stride=(1,))\n",
            "  (fc1): Linear(in_features=5696, out_features=128, bias=True)\n",
            "  (fc2): Linear(in_features=128, out_features=1, bias=True)\n",
            ")\n"
          ]
        }
      ],
      "source": [
        "print(net)"
      ]
    },
    {
      "cell_type": "markdown",
      "metadata": {
        "id": "yypmG11hr_so"
      },
      "source": [
        "# Ex 8: Define loss function and optimizer\n",
        "\n",
        "\n",
        "1. Define an SGD optimizer for the model. You need to choose the learning rate for your model.\n",
        "\n",
        "2. Define a Binary Cross Entropy (BCE) Loss  function.\n"
      ]
    },
    {
      "cell_type": "code",
      "execution_count": 82,
      "metadata": {
        "id": "uZwQKSrxh1A_"
      },
      "outputs": [],
      "source": [
        "## TODO ###\n",
        "import numpy as np\n",
        "\n",
        "criterion = nn.BCELoss()\n",
        "optimizer = torch.optim.SGD(net.parameters(), lr = 0.001)\n"
      ]
    },
    {
      "cell_type": "markdown",
      "metadata": {
        "id": "7rEjVjhetI6A"
      },
      "source": [
        "# Ex 9: Training your model\n",
        "\n",
        "The following function allows to train the model for one epoch. This function returns total loss per epoch.\n",
        "Implement the training pass for this function.\n",
        "\n",
        "\n",
        "\n",
        "The general process with PyTorch for one learning step consits of several steps:\n",
        "\n",
        "1. Make a forward pass through the network\n",
        "2. Use the network output to calculate the loss\n",
        "3. Perform a backward pass through the network with loss.backward() to calculate the gradients\n",
        "4. Take a step with the optimizer to update the weights\n",
        "\n"
      ]
    },
    {
      "cell_type": "code",
      "execution_count": 95,
      "metadata": {
        "id": "oAil9eU9iNCf"
      },
      "outputs": [],
      "source": [
        "def train():\n",
        "    net.train()\n",
        "    loss_epoch = 0\n",
        "    count = 0\n",
        "    for batch_data in train_loader:\n",
        "        dna = batch_data['DNA']\n",
        "        y = batch_data['Class']\n",
        "        optimizer.zero_grad()\n",
        "        out = net(dna)\n",
        "        loss = criterion(out, y)\n",
        "        loss.backward()\n",
        "        optimizer.step()\n",
        "        loss_epoch += loss.item()\n",
        "        count += len(batch_data)\n",
        "    loss_epoch = loss_epoch / count\n",
        "\n",
        "\n",
        "    return loss_epoch"
      ]
    },
    {
      "cell_type": "markdown",
      "metadata": {
        "id": "Pz0VV2Oenftq"
      },
      "source": [
        "# Ex 11: Accuracy Calculation\n",
        "\n",
        "Write a function named **compute_num_correct_pred(y_prob, y_label)** that allows to compute the number of correct predictions. **y_prob** and **y_label** should be pytorch tensors.\n",
        "\n",
        "For example,\n",
        "y_prob = [[0.3],[0.4], [0.8], [0.7]].\n",
        "\n",
        "y = [[0], [1], [1], [0]].\n",
        "\n",
        "This function should return 2."
      ]
    },
    {
      "cell_type": "code",
      "execution_count": 87,
      "metadata": {
        "id": "JZ3cRawWpFe7"
      },
      "outputs": [],
      "source": [
        "### TODO ####\n",
        "def compute_num_correct_pred(y_prob, y_label):\n",
        "  res = 0\n",
        "  for i in range(len(y_prob)):\n",
        "    if int(y_prob[i]) == int(y_label[i]):\n",
        "      res += 1\n",
        "  return res"
      ]
    },
    {
      "cell_type": "markdown",
      "metadata": {
        "id": "3N_g4DA-vex8"
      },
      "source": [
        "\n",
        "The function below allows to calculate the accuracy of the model on dataset loader. Execute this function to see if you implemented the compute_num_correct_pred function correctly."
      ]
    },
    {
      "cell_type": "code",
      "execution_count": 88,
      "metadata": {
        "id": "FY9V2-NCvv25"
      },
      "outputs": [],
      "source": [
        "def test(loader):\n",
        "  net.eval()\n",
        "\n",
        "  correct = 0\n",
        "  with torch.no_grad():\n",
        "    for data in loader:\n",
        "      dna = data['DNA']\n",
        "      y = data['Class']\n",
        "\n",
        "      out = net(dna)\n",
        "      correct += compute_num_correct_pred(out, y)\n",
        "\n",
        "  return correct / len(loader.dataset)"
      ]
    },
    {
      "cell_type": "markdown",
      "metadata": {
        "id": "I0vTKeeQ3wGb"
      },
      "source": [
        "# Ex 12: Training the model\n",
        "\n",
        "The code below allows to train your model on 10 epoches. If all work well, you should see the training loss drop with each epoch.\n",
        "\n",
        "train the model for 2000 epochs"
      ]
    },
    {
      "cell_type": "code",
      "execution_count": 96,
      "metadata": {
        "colab": {
          "base_uri": "https://localhost:8080/"
        },
        "id": "K-vkWpKLixGE",
        "outputId": "a314c412-47b6-4491-835f-de3f9c49611a"
      },
      "outputs": [
        {
          "output_type": "stream",
          "name": "stdout",
          "text": [
            "epoch : 0, accuracy = 0.75, loss = 0.28053822062195166\n",
            "epoch : 1, accuracy = 0.75, loss = 0.2805400788784027\n",
            "epoch : 2, accuracy = 0.75, loss = 0.2805283335994368\n",
            "epoch : 3, accuracy = 0.75, loss = 0.28052432334994615\n",
            "epoch : 4, accuracy = 0.75, loss = 0.28052153193379104\n",
            "epoch : 5, accuracy = 0.75, loss = 0.28053100509186313\n",
            "epoch : 6, accuracy = 0.75, loss = 0.2805167727478563\n",
            "epoch : 7, accuracy = 0.75, loss = 0.28051430966756113\n",
            "epoch : 8, accuracy = 0.75, loss = 0.2805163413286209\n",
            "epoch : 9, accuracy = 0.75, loss = 0.28050176676822036\n",
            "epoch : 10, accuracy = 0.75, loss = 0.2805033799720137\n",
            "epoch : 11, accuracy = 0.75, loss = 0.2804958740734074\n",
            "epoch : 12, accuracy = 0.75, loss = 0.2804929274198127\n",
            "epoch : 13, accuracy = 0.75, loss = 0.28049272043656\n",
            "epoch : 14, accuracy = 0.75, loss = 0.28048612279434726\n",
            "epoch : 15, accuracy = 0.75, loss = 0.28048047647900776\n",
            "epoch : 16, accuracy = 0.75, loss = 0.2804839481433777\n",
            "epoch : 17, accuracy = 0.75, loss = 0.2804783584728633\n",
            "epoch : 18, accuracy = 0.75, loss = 0.2804720041482416\n",
            "epoch : 19, accuracy = 0.75, loss = 0.2804650577576193\n",
            "epoch : 20, accuracy = 0.75, loss = 0.2804659687697071\n",
            "epoch : 21, accuracy = 0.75, loss = 0.28045745438908876\n",
            "epoch : 22, accuracy = 0.75, loss = 0.28045003126337104\n",
            "epoch : 23, accuracy = 0.75, loss = 0.2804528212506477\n",
            "epoch : 24, accuracy = 0.75, loss = 0.28044717248580225\n",
            "epoch : 25, accuracy = 0.75, loss = 0.28044023854683525\n",
            "epoch : 26, accuracy = 0.75, loss = 0.28044530534989215\n",
            "epoch : 27, accuracy = 0.75, loss = 0.2804369687625807\n",
            "epoch : 28, accuracy = 0.75, loss = 0.2804320772012619\n",
            "epoch : 29, accuracy = 0.75, loss = 0.2804289872515692\n",
            "epoch : 30, accuracy = 0.75, loss = 0.2804225101454617\n",
            "epoch : 31, accuracy = 0.75, loss = 0.2804184793813588\n",
            "epoch : 32, accuracy = 0.75, loss = 0.2804113568304336\n",
            "epoch : 33, accuracy = 0.75, loss = 0.28040077455648005\n",
            "epoch : 34, accuracy = 0.75, loss = 0.28040275028715395\n",
            "epoch : 35, accuracy = 0.75, loss = 0.28040110248408906\n",
            "epoch : 36, accuracy = 0.75, loss = 0.2804053610522453\n",
            "epoch : 37, accuracy = 0.75, loss = 0.2803900270429376\n",
            "epoch : 38, accuracy = 0.75, loss = 0.2803824772573497\n",
            "epoch : 39, accuracy = 0.75, loss = 0.28038768756063015\n",
            "epoch : 40, accuracy = 0.75, loss = 0.28038317016134523\n",
            "epoch : 41, accuracy = 0.75, loss = 0.28037404024029433\n",
            "epoch : 42, accuracy = 0.75, loss = 0.2803764207518264\n",
            "epoch : 43, accuracy = 0.75, loss = 0.28036567425891146\n",
            "epoch : 44, accuracy = 0.75, loss = 0.2803569379938792\n",
            "epoch : 45, accuracy = 0.75, loss = 0.28035873358380303\n",
            "epoch : 46, accuracy = 0.75, loss = 0.280345569326453\n",
            "epoch : 47, accuracy = 0.75, loss = 0.28034632295778356\n",
            "epoch : 48, accuracy = 0.75, loss = 0.2803504442515439\n",
            "epoch : 49, accuracy = 0.75, loss = 0.28033640031536966\n",
            "epoch : 50, accuracy = 0.75, loss = 0.2803349978711507\n",
            "epoch : 51, accuracy = 0.75, loss = 0.2803304253579819\n",
            "epoch : 52, accuracy = 0.75, loss = 0.28032108426910557\n",
            "epoch : 53, accuracy = 0.75, loss = 0.28031861700423777\n",
            "epoch : 54, accuracy = 0.75, loss = 0.2803198053208116\n",
            "epoch : 55, accuracy = 0.75, loss = 0.28031023489694074\n",
            "epoch : 56, accuracy = 0.75, loss = 0.28031118438668445\n",
            "epoch : 57, accuracy = 0.75, loss = 0.28030050678612434\n",
            "epoch : 58, accuracy = 0.75, loss = 0.2802940179428009\n",
            "epoch : 59, accuracy = 0.75, loss = 0.28029469849720395\n",
            "epoch : 60, accuracy = 0.75, loss = 0.2802842452305637\n",
            "epoch : 61, accuracy = 0.75, loss = 0.2802763403686759\n",
            "epoch : 62, accuracy = 0.75, loss = 0.28027731231222414\n",
            "epoch : 63, accuracy = 0.75, loss = 0.28026839998895176\n",
            "epoch : 64, accuracy = 0.75, loss = 0.2802700774922763\n",
            "epoch : 65, accuracy = 0.75, loss = 0.280254942913578\n",
            "epoch : 66, accuracy = 0.75, loss = 0.28025520929735\n",
            "epoch : 67, accuracy = 0.75, loss = 0.28025322233977384\n",
            "epoch : 68, accuracy = 0.75, loss = 0.28024698559143774\n",
            "epoch : 69, accuracy = 0.75, loss = 0.2802450913068366\n",
            "epoch : 70, accuracy = 0.75, loss = 0.28022911624140934\n",
            "epoch : 71, accuracy = 0.75, loss = 0.2802362355263266\n",
            "epoch : 72, accuracy = 0.75, loss = 0.2802122123029134\n",
            "epoch : 73, accuracy = 0.75, loss = 0.2802209032520856\n",
            "epoch : 74, accuracy = 0.75, loss = 0.2802186972678524\n",
            "epoch : 75, accuracy = 0.75, loss = 0.2802089504795532\n",
            "epoch : 76, accuracy = 0.75, loss = 0.2802014210044521\n",
            "epoch : 77, accuracy = 0.75, loss = 0.2801965906807821\n",
            "epoch : 78, accuracy = 0.75, loss = 0.2801931087080746\n",
            "epoch : 79, accuracy = 0.75, loss = 0.28018636828007765\n",
            "epoch : 80, accuracy = 0.75, loss = 0.2801857636603591\n",
            "epoch : 81, accuracy = 0.75, loss = 0.28018210991604686\n",
            "epoch : 82, accuracy = 0.75, loss = 0.28017365309881836\n",
            "epoch : 83, accuracy = 0.75, loss = 0.28017134239820585\n",
            "epoch : 84, accuracy = 0.75, loss = 0.28016000138978436\n",
            "epoch : 85, accuracy = 0.75, loss = 0.28015781306240656\n",
            "epoch : 86, accuracy = 0.75, loss = 0.28015095801794365\n",
            "epoch : 87, accuracy = 0.75, loss = 0.2801460856444215\n",
            "epoch : 88, accuracy = 0.75, loss = 0.28013479883131914\n",
            "epoch : 89, accuracy = 0.75, loss = 0.2801399225853894\n",
            "epoch : 90, accuracy = 0.75, loss = 0.2801307083605087\n",
            "epoch : 91, accuracy = 0.75, loss = 0.28012065803759717\n",
            "epoch : 92, accuracy = 0.75, loss = 0.28011051565408707\n",
            "epoch : 93, accuracy = 0.75, loss = 0.280114326575031\n",
            "epoch : 94, accuracy = 0.75, loss = 0.28009938315985955\n",
            "epoch : 95, accuracy = 0.75, loss = 0.28009550008055284\n",
            "epoch : 96, accuracy = 0.75, loss = 0.2800892322030786\n",
            "epoch : 97, accuracy = 0.75, loss = 0.28007804153308474\n",
            "epoch : 98, accuracy = 0.75, loss = 0.28008228969084076\n",
            "epoch : 99, accuracy = 0.75, loss = 0.28008035447907775\n"
          ]
        }
      ],
      "source": [
        "for i in range(100):\n",
        "  loss = train()\n",
        "  accuracy = test(train_loader)\n",
        "  print(f\"epoch : {i}, accuracy = {accuracy}, loss = {loss}\")"
      ]
    },
    {
      "cell_type": "markdown",
      "metadata": {
        "id": "WX_FGbp4tV0Z"
      },
      "source": [
        "# Ex13 (optional)\n",
        "\n",
        "\n",
        "\n",
        "1. If we use torch.nn.BCEWithLogitsLoss(), what does we need to change to the definition of the model ?\n",
        "\n",
        "\n",
        "\n",
        "2. The same question for torch.nn.CrossEntropyLoss() loss.  "
      ]
    },
    {
      "cell_type": "code",
      "execution_count": null,
      "metadata": {
        "id": "0l-GFUSOmOIr"
      },
      "outputs": [],
      "source": []
    }
  ],
  "metadata": {
    "colab": {
      "provenance": []
    },
    "kernelspec": {
      "display_name": "Python 3 (ipykernel)",
      "language": "python",
      "name": "python3"
    },
    "language_info": {
      "codemirror_mode": {
        "name": "ipython",
        "version": 3
      },
      "file_extension": ".py",
      "mimetype": "text/x-python",
      "name": "python",
      "nbconvert_exporter": "python",
      "pygments_lexer": "ipython3",
      "version": "3.12.3"
    }
  },
  "nbformat": 4,
  "nbformat_minor": 0
}