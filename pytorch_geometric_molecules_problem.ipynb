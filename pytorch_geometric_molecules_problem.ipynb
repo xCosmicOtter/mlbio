{
 "cells": [
  {
   "cell_type": "code",
   "execution_count": null,
   "metadata": {
    "colab": {
     "base_uri": "https://localhost:8080/"
    },
    "executionInfo": {
     "elapsed": 7916,
     "status": "ok",
     "timestamp": 1629616535202,
     "user": {
      "displayName": "ngoc mac",
      "photoUrl": "",
      "userId": "17981024361133171440"
     },
     "user_tz": -120
    },
    "id": "f-5bYlDLL31Y",
    "outputId": "d3ad9389-0dd7-4464-ce61-2f11bd2e915b"
   },
   "outputs": [
    {
     "name": "stdout",
     "output_type": "stream",
     "text": [
      "Collecting rdkit-pypi\n",
      "  Downloading rdkit_pypi-2021.3.4-cp37-cp37m-manylinux2014_x86_64.whl (18.6 MB)\n",
      "\u001b[K     |████████████████████████████████| 18.6 MB 1.3 MB/s \n",
      "\u001b[?25hRequirement already satisfied: numpy>=1.19 in /usr/local/lib/python3.7/dist-packages (from rdkit-pypi) (1.19.5)\n",
      "Installing collected packages: rdkit-pypi\n",
      "Successfully installed rdkit-pypi-2021.3.4\n"
     ]
    }
   ],
   "source": [
    "# Install rdkit\n",
    "!pip install rdkit-pypi"
   ]
  },
  {
   "cell_type": "code",
   "execution_count": null,
   "metadata": {
    "colab": {
     "base_uri": "https://localhost:8080/"
    },
    "executionInfo": {
     "elapsed": 13733,
     "status": "ok",
     "timestamp": 1629616553325,
     "user": {
      "displayName": "ngoc mac",
      "photoUrl": "",
      "userId": "17981024361133171440"
     },
     "user_tz": -120
    },
    "id": "dNG-WBkMMta_",
    "outputId": "05dd0164-42fb-4e77-afde-89d9ccd50d7e"
   },
   "outputs": [
    {
     "name": "stdout",
     "output_type": "stream",
     "text": [
      "\u001b[K     |████████████████████████████████| 3.0 MB 7.0 MB/s \n",
      "\u001b[K     |████████████████████████████████| 1.6 MB 7.6 MB/s \n",
      "\u001b[K     |████████████████████████████████| 376 kB 6.7 MB/s \n",
      "\u001b[K     |████████████████████████████████| 45 kB 4.6 MB/s \n",
      "\u001b[?25h  Building wheel for torch-geometric (setup.py) ... \u001b[?25l\u001b[?25hdone\n"
     ]
    }
   ],
   "source": [
    "# Install pytorch_geometric\n",
    "!pip install -q torch-scatter -f https://pytorch-geometric.com/whl/torch-1.9.0+cu102.html\n",
    "!pip install -q torch-sparse -f https://pytorch-geometric.com/whl/torch-1.9.0+cu102.html\n",
    "!pip install -q git+https://github.com/rusty1s/pytorch_geometric.git\n"
   ]
  },
  {
   "cell_type": "code",
   "execution_count": null,
   "metadata": {
    "id": "sHrzuqi7Mj2O"
   },
   "outputs": [],
   "source": [
    "import rdkit\n",
    "import torch_geometric"
   ]
  },
  {
   "cell_type": "markdown",
   "metadata": {
    "id": "clynGmCNNrCF"
   },
   "source": [
    "# 1. Explore dataset in Pytorch_geometric\n",
    "\n",
    "\n",
    "To better understand molecule and graph, we will load and explore one of the molecule datasets that come from the pytorch_geometric library.\n",
    "\n",
    "1. Load the HIV dataset from the torch_geometric.datasets.MoleculeNet module.\n",
    "\n",
    "2. How many graphs are there in this dataset ? Print out the number of features and the number of classes for this dataset.\n",
    "\n",
    "3. Get the first graph in this dataset. Print out the number of nodes, the number of edges, the number of features and  the adjency matrix of this graph. This graph is undirected or not ?\n",
    "\n",
    "\n",
    "4. Draw this graph using networkx (it's already installed with pytorch_geometric) and torch_geometric.utils.to_networkx.\n",
    "\n",
    "\n",
    "5. (Optional) Get the SMILES string of this molecule and draw its structure with Rdkit. The structure of this molecule looks like the graph that you've drawn in 4. ?"
   ]
  },
  {
   "cell_type": "code",
   "execution_count": null,
   "metadata": {
    "id": "tzbY2RjgOQdo"
   },
   "outputs": [],
   "source": [
    "!mkdir dataset"
   ]
  },
  {
   "cell_type": "markdown",
   "metadata": {
    "id": "a5QV7llwgk6v"
   },
   "source": [
    "# EX 2. Convert a molecule to graph\n",
    "\n",
    "A single graph in PyTorch Geometric is described by an instance of the torch_geometric.data.Data class. So, in order to use graph neural network in pytorch_geometric,  we need convert molecules to torch_geometric.data.Data object. \n",
    "\n",
    "\n",
    "The **mol2graph(mol, y, smiles)** function below allows us to convert a molecule (rdkit format) to graph (a torch_geometric.data.Data object).\n",
    "\n",
    "\n",
    "1. Use this function to convert a acetic acid molecule to graph. This function takes three parametes as inputs: rdkit molecule (mol), label of graph (here molecule is active or not) (y) and SMILES string of molecule.  Known that the SMILES string of acetic acid is \"CC(O)=O\" and you can choose in this case the label y = 1. \n",
    "\n",
    "\n",
    "2. How many features are there in the nodes ? What are they ? Print out the \"edge_index\" of the acetic acide graph.\n"
   ]
  },
  {
   "cell_type": "code",
   "execution_count": null,
   "metadata": {
    "id": "Qd4weA8-fn3X"
   },
   "outputs": [],
   "source": [
    "x_map = {\n",
    "    'atomic_num':\n",
    "    list(range(0, 119)),\n",
    "    'chirality': [\n",
    "        'CHI_UNSPECIFIED',\n",
    "        'CHI_TETRAHEDRAL_CW',\n",
    "        'CHI_TETRAHEDRAL_CCW',\n",
    "        'CHI_OTHER',\n",
    "    ],\n",
    "    'degree':\n",
    "    list(range(0, 11)),\n",
    "    'formal_charge':\n",
    "    list(range(-5, 7)),\n",
    "    'num_hs':\n",
    "    list(range(0, 9)),\n",
    "    'num_radical_electrons':\n",
    "    list(range(0, 5)),\n",
    "    'hybridization': [\n",
    "        'UNSPECIFIED',\n",
    "        'S',\n",
    "        'SP',\n",
    "        'SP2',\n",
    "        'SP3',\n",
    "        'SP3D',\n",
    "        'SP3D2',\n",
    "        'OTHER',\n",
    "    ],\n",
    "    'is_aromatic': [False, True],\n",
    "    'is_in_ring': [False, True],\n",
    "}\n",
    "\n",
    "\n",
    "\n",
    "\n",
    "e_map = {\n",
    "    'bond_type': [\n",
    "        'misc',\n",
    "        'SINGLE',\n",
    "        'DOUBLE',\n",
    "        'TRIPLE',\n",
    "        'AROMATIC',\n",
    "    ],\n",
    "    'stereo': [\n",
    "        'STEREONONE',\n",
    "        'STEREOZ',\n",
    "        'STEREOE',\n",
    "        'STEREOCIS',\n",
    "        'STEREOTRANS',\n",
    "        'STEREOANY',\n",
    "    ],\n",
    "    'is_conjugated': [False, True],\n",
    "}\n",
    "\n",
    "\n",
    "def mol2graph(mol, y, smiles):\n",
    "\n",
    "    from torch_geometric.data import Data\n",
    "    import torch\n",
    "    import torch_geometric\n",
    "\n",
    "    \n",
    "    xs = []\n",
    "\n",
    "    for atom in mol.GetAtoms():\n",
    "\n",
    "        x = []\n",
    "\n",
    "        x.append(x_map['atomic_num'].index(atom.GetAtomicNum()))\n",
    "        # The atomic number is the number of protons in the nucleus of an atom\n",
    "\n",
    "        x.append(x_map['chirality'].index(str(atom.GetChiralTag())))\n",
    "    \n",
    "        x.append(x_map['degree'].index(atom.GetTotalDegree()))\n",
    "        # the number of carbon atoms that this atom is attached to\n",
    "    \n",
    "        x.append(x_map['formal_charge'].index(atom.GetFormalCharge()))\n",
    "        x.append(x_map['num_hs'].index(atom.GetTotalNumHs()))\n",
    "        x.append(x_map['num_radical_electrons'].index(\n",
    "            atom.GetNumRadicalElectrons()))\n",
    "        x.append(x_map['hybridization'].index(str(atom.GetHybridization())))\n",
    "        x.append(x_map['is_aromatic'].index(atom.GetIsAromatic()))\n",
    "        x.append(x_map['is_in_ring'].index(atom.IsInRing()))\n",
    "\n",
    "        xs.append(x)\n",
    "\n",
    "\n",
    "\n",
    "    x = torch.tensor(xs, dtype=torch.float).view(-1, 9)\n",
    "\n",
    "    #print(\"x\", x)\n",
    "\n",
    "    edge_indices, edge_attrs = [], []\n",
    "    for bond in mol.GetBonds():\n",
    "        i = bond.GetBeginAtomIdx()\n",
    "        j = bond.GetEndAtomIdx()\n",
    "\n",
    "        e = []\n",
    "        e.append(e_map['bond_type'].index(str(bond.GetBondType())))\n",
    "        e.append(e_map['stereo'].index(str(bond.GetStereo())))\n",
    "        e.append(e_map['is_conjugated'].index(bond.GetIsConjugated()))\n",
    "\n",
    "        edge_indices += [[i, j], [j, i]]\n",
    "        edge_attrs += [e, e]\n",
    "\n",
    "    edge_index = torch.tensor(edge_indices)\n",
    "    edge_index = edge_index.t().to(torch.long).view(2, -1)\n",
    "    edge_attr = torch.tensor(edge_attrs, dtype=torch.long).view(-1, 3)\n",
    "\n",
    "    # Sort indices.\n",
    "    y = torch.tensor(y, dtype=torch.long)\n",
    "\n",
    "    if edge_index.numel() > 0:\n",
    "        perm = (edge_index[0] * x.size(0) + edge_index[1]).argsort()\n",
    "        edge_index, edge_attr = edge_index[:, perm], edge_attr[perm]\n",
    "\n",
    "    data = Data(x=x, edge_index=edge_index, edge_attr=edge_attr, y = y, smiles=smiles)\n",
    "\n",
    "    return data\n"
   ]
  },
  {
   "cell_type": "code",
   "execution_count": null,
   "metadata": {
    "id": "jWDK8zIzmUtE"
   },
   "outputs": [],
   "source": [
    "smiles_acetic_acid = \"CC(O)=O\"\n",
    "mol = rdkit.Chem.MolFromSmiles(smiles_acetic_acid)"
   ]
  },
  {
   "cell_type": "markdown",
   "metadata": {
    "id": "i58VGkbqxdgk"
   },
   "source": [
    "# Buid a Graph Neural Network (GNN)\n",
    "\n",
    " In the next exercises of this notebook, we will try to build a graph network to predict the ability of molecules to inhibit a protein known as ERK2. For this purpose, we will use compounds that are derived from the DUD-E database. "
   ]
  },
  {
   "cell_type": "markdown",
   "metadata": {
    "id": "uWlmiF0yn1oV"
   },
   "source": [
    "#Ex 3: Create dataset\n",
    "\n",
    "The file named \"active_data.csv\" consists of more than 300 active and decoy molecules. The dataset is made of two components:\n",
    "\n",
    "-  Chemical structural data on compounds: each chemical compound is described under the SMILES format. \n",
    "\n",
    "-  ERK2-activity : it corresponds to the screening result evaluating the activity (1) or the inactivity (0) of the chemical compound.\n",
    "\n",
    "\n",
    "1. Read the \"active_data.csv\" file into a pandas dataframe. Are there how many active molecules and how many decoy molecules?\n",
    "\n",
    "\n",
    "2. From this dataframe, create a list of RDKit molecules.\n",
    "\n",
    "\n",
    "3. Using the mol2graph(mol, y, smiles) function to convert the list of Rdkit molecules to a list of torch_geometric.data.Data objects. You should call this list as \"list_data\". \n",
    "\n",
    "\n",
    "4. Plot the histogram to see the ratio between the  compounds active and inactive."
   ]
  },
  {
   "cell_type": "code",
   "execution_count": null,
   "metadata": {
    "id": "9uDVldMnmp4X"
   },
   "outputs": [],
   "source": []
  },
  {
   "cell_type": "markdown",
   "metadata": {
    "id": "WAyN3trZ5kum"
   },
   "source": [
    "# EX 4. Create training set and test set\n",
    "In this exercise, we will prepare a training set and a test set. \n",
    "\n",
    "1. Shuffle the \"list_data\" list that you've created above.\n",
    "\n",
    "2. Take the first 300 molecules for \"train_dataset\" and the rest for \"test_dataset\".\n"
   ]
  },
  {
   "cell_type": "code",
   "execution_count": null,
   "metadata": {
    "id": "N5BbkGyk5yBA"
   },
   "outputs": [],
   "source": [
    "import random\n",
    "\n",
    "random.seed(123)\n",
    "random.shuffle(list_data)\n",
    "\n",
    "train_dataset = list_data[:300]\n",
    "test_dataset = list_data[300:]"
   ]
  },
  {
   "cell_type": "markdown",
   "metadata": {
    "id": "lRfuRXtiIHvo"
   },
   "source": [
    "# Ex5: Create DataLoader\n",
    "\n",
    "Usually a graph classification task trains on a lot of graphs, and it will be very inefficient to use only one graph at a time when training the model. \n",
    "\n",
    "Pytorch Geometric opts for building a single giant graph from a list of graphs by stacking adjacency matrices in a diagonal fashion and node that target features are simply concatenated in the note dimension.\n",
    "\n",
    "A single giant graph is automatically built from a list of graphs with DataLoader.\n",
    "\n",
    "1. Create **train_loader** and **test_loader** from **train_dataset** and **test_dataset** by using the torch_geometric.data.DataLoader class.\n",
    "\n",
    "\n",
    "2. Get a batch from **train_loader**. Print out the number of graphs and data of this batch."
   ]
  },
  {
   "cell_type": "code",
   "execution_count": null,
   "metadata": {
    "id": "EHiIeHZ761f_"
   },
   "outputs": [],
   "source": [
    "from torch_geometric.data import DataLoader\n",
    "\n",
    "train_loader = DataLoader(train_dataset, batch_size=64, shuffle=True)\n",
    "\n",
    "\n",
    "### TODO ###\n",
    "test_loader = "
   ]
  },
  {
   "cell_type": "markdown",
   "metadata": {
    "id": "hWtYDyqY3SQx"
   },
   "source": [
    "# Ex 6: Graph Neural Network Layer\n",
    "\n",
    " Let's try to test a graph neural network layer. This kind of layer is available on the pytorch_geometric.nn module. This layer's similar to Linear Layer (Multi-layer Perception Network) in deep learning. \n",
    "\n",
    "\n",
    " 1. Create an instance of the torch_geometric.nn. GCNConv class. You need choose two parameters: number of features and number of hidden layers. \n",
    "\n",
    "2. Apply it to the graph of acetic acid. \n",
    "\n",
    "\n",
    "3. What is the output ? its size ?\n"
   ]
  },
  {
   "cell_type": "code",
   "execution_count": null,
   "metadata": {
    "id": "uwKtqlYI3Qw7"
   },
   "outputs": [],
   "source": [
    "smiles_acetic_acid = \"CC(O)=O\"\n",
    "mol_acetic_acid = rdkit.Chem.MolFromSmiles(smiles_acetic_acid)\n",
    "graph_acetic_acid = mol2graph(mol, y = 1, smiles = smiles_acetic_acid)"
   ]
  },
  {
   "cell_type": "code",
   "execution_count": null,
   "metadata": {
    "colab": {
     "base_uri": "https://localhost:8080/"
    },
    "executionInfo": {
     "elapsed": 203,
     "status": "ok",
     "timestamp": 1629620266595,
     "user": {
      "displayName": "ngoc mac",
      "photoUrl": "",
      "userId": "17981024361133171440"
     },
     "user_tz": -120
    },
    "id": "9XoXr9LaOGzf",
    "outputId": "7789c732-77e2-4842-dd23-47fb6c6653c0"
   },
   "outputs": [
    {
     "name": "stdout",
     "output_type": "stream",
     "text": [
      "output of a CGCN layer : tensor([[-3.6532, -0.4108, -0.0380,  5.1302, -0.5739],\n",
      "        [-4.3025, -0.3942,  0.1200,  5.2297, -0.3605],\n",
      "        [-4.7781, -0.1930,  0.2798,  4.7861,  0.0078],\n",
      "        [-4.1041, -0.0256,  0.2751,  3.7193,  0.1672],\n",
      "        [-4.1766,  0.0498,  0.1860,  4.0175,  0.0886]],\n",
      "       grad_fn=<SliceBackward>)\n",
      "the shape of output:  torch.Size([35, 16])\n"
     ]
    }
   ],
   "source": [
    "# TODO\n",
    "from torch_geometric.nn import GCNConv\n"
   ]
  },
  {
   "cell_type": "markdown",
   "metadata": {
    "id": "gjTreX5M65sC"
   },
   "source": [
    "# EX 7: global_mean_pool Layer\n",
    "\n",
    "As we've seen in the ex 6, the output of a GNN layer is a tensor with size (35, 16). However, for the graph classification task, the label of graph is just a scaler number. So, we need to aggregate node embeddings into a unified graph embedding (known as readout layer) before training a final classifier. Let's try it to see what the output of a global_mean_pool layer is.\n",
    "\n",
    "\n",
    "1. Pass the **out_GCN_layer** variable to the global_mean_pool function. Store the result in a variable named **out_GMP_layer**\n",
    "\n",
    "2. Print out the shape of **out_GMP_layer**. \n",
    "\n"
   ]
  },
  {
   "cell_type": "code",
   "execution_count": null,
   "metadata": {
    "colab": {
     "base_uri": "https://localhost:8080/"
    },
    "executionInfo": {
     "elapsed": 192,
     "status": "ok",
     "timestamp": 1629621977636,
     "user": {
      "displayName": "ngoc mac",
      "photoUrl": "",
      "userId": "17981024361133171440"
     },
     "user_tz": -120
    },
    "id": "m0-2aMh483Rc",
    "outputId": "3231e871-f7f8-4c35-dda5-6bff14111f96"
   },
   "outputs": [
    {
     "name": "stdout",
     "output_type": "stream",
     "text": [
      "tensor([[ 0.7695, -4.0434,  0.0090, -1.3488, -3.5462, -3.2930,  5.8816,  1.1981,\n",
      "          0.2020, -2.9774, -1.2602,  0.9600,  1.5055, -2.5103, -0.7898,  3.9680]],\n",
      "       grad_fn=<DivBackward0>)\n",
      "shape of output_GMP_layer  torch.Size([1, 16])\n"
     ]
    }
   ],
   "source": [
    "from torch_geometric.nn import GCNConv\n",
    "from torch_geometric.nn import global_mean_pool\n",
    "\n",
    "# GMP mean Global mean pool\n",
    "data_for_test_GMP_layer = DataLoader([graph_acetic_acid], batch_size=1 )\n",
    "conv_test = GCNConv(9, 16)\n",
    "\n",
    "\n",
    "data = iter(data_for_test_GMP_layer).next()\n",
    "out_GCN_layer = conv_test(data.x, data.edge_index)\n",
    "\n",
    "#### TO DO ##### \n",
    "out_GMP_layer = ???????\n",
    "\n",
    "print(out_GMP_layer)\n",
    "print(\"shape of output_GMP_layer \", ????????? )\n",
    "\n"
   ]
  },
  {
   "cell_type": "markdown",
   "metadata": {
    "id": "gVYBeplH7QEu"
   },
   "source": [
    "# EX 8: Building a graph network for graph classification task with Pytorch geometric\n",
    "\n",
    "\n",
    "In this exercise, we will create a network to classify if a molecule is active. This network consists of 4 layers: \n",
    "\n",
    "1. A graph convolution network layer conv1\n",
    "\n",
    "2. Another GCN layer conv2\n",
    "\n",
    "3. Another GCN layer conv3\n",
    "\n",
    "4. A torch_geometric.nn.global_mean_pool layer\n",
    "\n",
    "5. A linear layer\n",
    "\n",
    "Relu activation function is used after the two first layers.\n",
    "\n",
    "Complete the lines below (after #TODO) to finish the definition of this network.\n"
   ]
  },
  {
   "cell_type": "code",
   "execution_count": null,
   "metadata": {
    "id": "wkU-LtEm43SI"
   },
   "outputs": [],
   "source": [
    "from torch_geometric.nn import GCNConv\n",
    "from torch_geometric.nn import global_mean_pool\n",
    "\n",
    "import torch\n",
    "import torch.nn.functional as F\n",
    "from torch.nn import Linear\n",
    "\n",
    "#### TODO\n",
    "n_features = ????\n",
    "\n",
    "\n",
    "\n",
    "class Net(torch.nn.Module):\n",
    "    def __init__(self):\n",
    "        super(Net, self).__init__()\n",
    "        torch.manual_seed(12)\n",
    "        self.conv1 = GCNConv(n_features, 8)\n",
    "        self.conv2 = GCNConv(8, 16)\n",
    "        self.conv3 = GCNConv(16, 32)\n",
    "\n",
    "        # TO DO \n",
    "        self.linear = Linear(??, ??)\n",
    "\n",
    "\n",
    "    def forward(self, x, edge_index, batch):\n",
    "\n",
    "\n",
    "        # 1. Obtain node embeddings\n",
    "        # First GCN layer\n",
    "        x = self.conv1(x, edge_index)\n",
    "        x = F.relu(x)\n",
    "       \n",
    "        ## TODO\n",
    "        # Second GCN layer\n",
    "        x =  ????\n",
    "        x =  ????\n",
    "        \n",
    "\n",
    "        # Third GCN layer\n",
    "        x = self.conv3(x, edge_index)\n",
    "      \n",
    "        \n",
    "        ### TODO#####\n",
    "        #2. REadout layer\n",
    "        x = ???????\n",
    "\n",
    "\n",
    "        # 3. Linear Layer\n",
    "        ## TO DO\n",
    "        x = ????\n",
    "        \n",
    "        return x\n"
   ]
  },
  {
   "cell_type": "markdown",
   "metadata": {
    "id": "PucPIEd5UTWn"
   },
   "source": [
    "# Ex 9: Create network\n",
    "\n",
    "\n",
    "1. Create the network then print out the model and look at it's text representation\n",
    "\n",
    "2. Define an optimizer. You should use the torch.optim.Adam class.\n",
    "\n",
    "3. Define a loss function. You should use the CrossEntropyLoss class.\n",
    "\n"
   ]
  },
  {
   "cell_type": "code",
   "execution_count": null,
   "metadata": {
    "id": "ll1q9TLdUagf"
   },
   "outputs": [],
   "source": [
    "\n"
   ]
  },
  {
   "cell_type": "code",
   "execution_count": null,
   "metadata": {
    "colab": {
     "base_uri": "https://localhost:8080/"
    },
    "executionInfo": {
     "elapsed": 334,
     "status": "ok",
     "timestamp": 1629626848360,
     "user": {
      "displayName": "ngoc mac",
      "photoUrl": "",
      "userId": "17981024361133171440"
     },
     "user_tz": -120
    },
    "id": "KX1DzW1ErYJO",
    "outputId": "05e89c4b-b4b7-4972-c9d2-9b73616908d1"
   },
   "outputs": [
    {
     "name": "stdout",
     "output_type": "stream",
     "text": [
      "Net(\n",
      "  (conv1): GCNConv(9, 8)\n",
      "  (conv2): GCNConv(8, 16)\n",
      "  (conv3): GCNConv(16, 32)\n",
      "  (linear): Linear(in_features=32, out_features=2, bias=True)\n",
      ")\n"
     ]
    }
   ],
   "source": [
    "print( model)"
   ]
  },
  {
   "cell_type": "markdown",
   "metadata": {
    "id": "ZhsGNksI7zVa"
   },
   "source": [
    "# Ex 10: Train model for an epoch\n",
    "\n",
    "Write a function named **train()** that allows us to train a model for an epoch.\n",
    "\n",
    "The tasks that the function should execute:\n",
    "\n",
    "\n",
    "0. Iterate in batches over the train_loader\n",
    "\n",
    "1. Perform a single forward pass\n",
    "\n",
    "2. Compute the loss\n",
    "\n",
    "3. Derive the gradient\n",
    "\n",
    "4. Update parameters\n",
    "\n",
    "5. Clearn gradients\n",
    "\n",
    "\n",
    "\n",
    "Complete the lines (with ?????) below to finish the function."
   ]
  },
  {
   "cell_type": "code",
   "execution_count": null,
   "metadata": {
    "id": "xpjXAr8T7qFd"
   },
   "outputs": [],
   "source": [
    "def train():\n",
    "    model.train()\n",
    "\n",
    "    for data in train_loader: \n",
    "        # TODO ( )\n",
    "        #1.Forward pass \n",
    "         out = ????????\n",
    "         # 2. Compute the loss  \n",
    "         loss =  ???????\n",
    "         # 3. Calculate the gradient\n",
    "         ?????????????\n",
    "         #4. Update the parameters (weights) \n",
    "         ???????????? \n",
    "         #5. Clean gradients \n",
    "         ??????????????  \n"
   ]
  },
  {
   "cell_type": "markdown",
   "metadata": {
    "id": "9k4VvLPX8sCA"
   },
   "source": [
    "# Ex 11: Test\n",
    "\n",
    "Similar to Ex9, write a function named **tes(loader)** that allows to compute the accuracy of the model on dataset \"loader\".\n",
    "\n",
    "The steps to calculate the accuracy of a classification model:\n",
    "\n",
    "1. Iterate in batches over the train_loader.\n",
    "\n",
    "2. Compute the output of the model\n",
    "\n",
    "3. Find the class with highest probability \n",
    "\n",
    "4. Count ground-truth labels\n",
    "\n",
    "5. Compute the accuracy\n",
    "\n",
    "\n",
    "Complete the lines (with ?????)  to finish the definition of this network."
   ]
  },
  {
   "cell_type": "code",
   "execution_count": null,
   "metadata": {
    "id": "Hqf4QsUg8VUE"
   },
   "outputs": [],
   "source": [
    "def test(loader):\n",
    "     model.eval()\n",
    "\n",
    "     correct = 0\n",
    "     for data in loader:\n",
    "         ########### TODO ####\n",
    "         # output of the model\n",
    "         out =  ??????????????\n",
    "         # Use the class with highest probability  \n",
    "         pred = ?????????\n",
    "\n",
    "         # Check against ground-truth labels\n",
    "         correct += int((pred == data.y).sum())  \n",
    "     return correct / len(loader.dataset)\n",
    "\n"
   ]
  },
  {
   "cell_type": "markdown",
   "metadata": {
    "id": "-4gcODV_8vTs"
   },
   "source": [
    "# Ex 12: Training model\n",
    "\n",
    "Training model for 100 epoches.\n",
    "\n",
    "Calculate training accuracy for train_loader and test_loader by using the **train()** function and the **test(loader)** function\n"
   ]
  },
  {
   "cell_type": "code",
   "execution_count": null,
   "metadata": {
    "colab": {
     "base_uri": "https://localhost:8080/"
    },
    "executionInfo": {
     "elapsed": 11974,
     "status": "ok",
     "timestamp": 1629626871202,
     "user": {
      "displayName": "ngoc mac",
      "photoUrl": "",
      "userId": "17981024361133171440"
     },
     "user_tz": -120
    },
    "id": "Si4ay8qM8Zl5",
    "outputId": "07cdc50f-9ad9-4e36-b1f4-d785281b0f99"
   },
   "outputs": [
    {
     "name": "stdout",
     "output_type": "stream",
     "text": [
      "Epoch: 001, Train Acc: 0.8067, Test Acc: 0.7342\n",
      "Epoch: 002, Train Acc: 0.8067, Test Acc: 0.7342\n",
      "Epoch: 003, Train Acc: 0.8067, Test Acc: 0.7342\n",
      "Epoch: 004, Train Acc: 0.8067, Test Acc: 0.7342\n",
      "Epoch: 005, Train Acc: 0.8067, Test Acc: 0.7342\n",
      "Epoch: 006, Train Acc: 0.8067, Test Acc: 0.7342\n",
      "Epoch: 007, Train Acc: 0.8067, Test Acc: 0.7342\n",
      "Epoch: 008, Train Acc: 0.8067, Test Acc: 0.7342\n",
      "Epoch: 009, Train Acc: 0.8067, Test Acc: 0.7342\n",
      "Epoch: 010, Train Acc: 0.8067, Test Acc: 0.7342\n",
      "Epoch: 011, Train Acc: 0.8067, Test Acc: 0.7342\n",
      "Epoch: 012, Train Acc: 0.8067, Test Acc: 0.7342\n",
      "Epoch: 013, Train Acc: 0.8067, Test Acc: 0.7342\n",
      "Epoch: 014, Train Acc: 0.8067, Test Acc: 0.7342\n",
      "Epoch: 015, Train Acc: 0.8067, Test Acc: 0.7342\n",
      "Epoch: 016, Train Acc: 0.8067, Test Acc: 0.7342\n",
      "Epoch: 017, Train Acc: 0.8067, Test Acc: 0.7342\n",
      "Epoch: 018, Train Acc: 0.8067, Test Acc: 0.7342\n",
      "Epoch: 019, Train Acc: 0.8067, Test Acc: 0.7342\n",
      "Epoch: 020, Train Acc: 0.8067, Test Acc: 0.7342\n",
      "Epoch: 021, Train Acc: 0.8067, Test Acc: 0.7342\n",
      "Epoch: 022, Train Acc: 0.8067, Test Acc: 0.7342\n",
      "Epoch: 023, Train Acc: 0.8067, Test Acc: 0.7342\n",
      "Epoch: 024, Train Acc: 0.8067, Test Acc: 0.7342\n",
      "Epoch: 025, Train Acc: 0.8067, Test Acc: 0.7342\n",
      "Epoch: 026, Train Acc: 0.8067, Test Acc: 0.7342\n",
      "Epoch: 027, Train Acc: 0.8067, Test Acc: 0.7342\n",
      "Epoch: 028, Train Acc: 0.8067, Test Acc: 0.7342\n",
      "Epoch: 029, Train Acc: 0.8067, Test Acc: 0.7342\n",
      "Epoch: 030, Train Acc: 0.8067, Test Acc: 0.7342\n",
      "Epoch: 031, Train Acc: 0.8067, Test Acc: 0.7342\n",
      "Epoch: 032, Train Acc: 0.8067, Test Acc: 0.7342\n",
      "Epoch: 033, Train Acc: 0.8067, Test Acc: 0.7342\n",
      "Epoch: 034, Train Acc: 0.8067, Test Acc: 0.7342\n",
      "Epoch: 035, Train Acc: 0.8067, Test Acc: 0.7342\n",
      "Epoch: 036, Train Acc: 0.8067, Test Acc: 0.7342\n",
      "Epoch: 037, Train Acc: 0.8067, Test Acc: 0.7342\n",
      "Epoch: 038, Train Acc: 0.8067, Test Acc: 0.7342\n",
      "Epoch: 039, Train Acc: 0.8067, Test Acc: 0.7342\n",
      "Epoch: 040, Train Acc: 0.8100, Test Acc: 0.7342\n",
      "Epoch: 041, Train Acc: 0.8133, Test Acc: 0.7468\n",
      "Epoch: 042, Train Acc: 0.8133, Test Acc: 0.7468\n",
      "Epoch: 043, Train Acc: 0.8100, Test Acc: 0.7342\n",
      "Epoch: 044, Train Acc: 0.8133, Test Acc: 0.7468\n",
      "Epoch: 045, Train Acc: 0.8267, Test Acc: 0.7848\n",
      "Epoch: 046, Train Acc: 0.8100, Test Acc: 0.7342\n",
      "Epoch: 047, Train Acc: 0.8167, Test Acc: 0.7468\n",
      "Epoch: 048, Train Acc: 0.8300, Test Acc: 0.7848\n",
      "Epoch: 049, Train Acc: 0.8167, Test Acc: 0.7468\n",
      "Epoch: 050, Train Acc: 0.8267, Test Acc: 0.7595\n",
      "Epoch: 051, Train Acc: 0.8533, Test Acc: 0.8101\n",
      "Epoch: 052, Train Acc: 0.8433, Test Acc: 0.7975\n",
      "Epoch: 053, Train Acc: 0.8400, Test Acc: 0.7975\n",
      "Epoch: 054, Train Acc: 0.8533, Test Acc: 0.8101\n",
      "Epoch: 055, Train Acc: 0.8500, Test Acc: 0.8101\n",
      "Epoch: 056, Train Acc: 0.8467, Test Acc: 0.7975\n",
      "Epoch: 057, Train Acc: 0.8633, Test Acc: 0.8354\n",
      "Epoch: 058, Train Acc: 0.8433, Test Acc: 0.7975\n",
      "Epoch: 059, Train Acc: 0.8467, Test Acc: 0.8101\n",
      "Epoch: 060, Train Acc: 0.8600, Test Acc: 0.8861\n",
      "Epoch: 061, Train Acc: 0.8400, Test Acc: 0.7975\n",
      "Epoch: 062, Train Acc: 0.8667, Test Acc: 0.8861\n",
      "Epoch: 063, Train Acc: 0.8533, Test Acc: 0.8101\n",
      "Epoch: 064, Train Acc: 0.8633, Test Acc: 0.8608\n",
      "Epoch: 065, Train Acc: 0.8600, Test Acc: 0.8354\n",
      "Epoch: 066, Train Acc: 0.8533, Test Acc: 0.8481\n",
      "Epoch: 067, Train Acc: 0.8667, Test Acc: 0.8861\n",
      "Epoch: 068, Train Acc: 0.8600, Test Acc: 0.8228\n",
      "Epoch: 069, Train Acc: 0.8633, Test Acc: 0.8861\n",
      "Epoch: 070, Train Acc: 0.8600, Test Acc: 0.8481\n",
      "Epoch: 071, Train Acc: 0.8633, Test Acc: 0.8734\n",
      "Epoch: 072, Train Acc: 0.8667, Test Acc: 0.8861\n",
      "Epoch: 073, Train Acc: 0.8633, Test Acc: 0.8734\n",
      "Epoch: 074, Train Acc: 0.8600, Test Acc: 0.8481\n",
      "Epoch: 075, Train Acc: 0.8767, Test Acc: 0.8987\n",
      "Epoch: 076, Train Acc: 0.8600, Test Acc: 0.8481\n",
      "Epoch: 077, Train Acc: 0.8667, Test Acc: 0.8861\n",
      "Epoch: 078, Train Acc: 0.8667, Test Acc: 0.8861\n",
      "Epoch: 079, Train Acc: 0.8733, Test Acc: 0.8861\n",
      "Epoch: 080, Train Acc: 0.8667, Test Acc: 0.8861\n",
      "Epoch: 081, Train Acc: 0.8767, Test Acc: 0.8987\n",
      "Epoch: 082, Train Acc: 0.8633, Test Acc: 0.8354\n",
      "Epoch: 083, Train Acc: 0.8733, Test Acc: 0.8861\n",
      "Epoch: 084, Train Acc: 0.8600, Test Acc: 0.8608\n",
      "Epoch: 085, Train Acc: 0.8767, Test Acc: 0.8861\n",
      "Epoch: 086, Train Acc: 0.8733, Test Acc: 0.8861\n",
      "Epoch: 087, Train Acc: 0.8733, Test Acc: 0.8861\n",
      "Epoch: 088, Train Acc: 0.8733, Test Acc: 0.8861\n",
      "Epoch: 089, Train Acc: 0.8733, Test Acc: 0.8861\n",
      "Epoch: 090, Train Acc: 0.8733, Test Acc: 0.8861\n",
      "Epoch: 091, Train Acc: 0.8733, Test Acc: 0.8861\n",
      "Epoch: 092, Train Acc: 0.8733, Test Acc: 0.8861\n",
      "Epoch: 093, Train Acc: 0.8733, Test Acc: 0.8861\n",
      "Epoch: 094, Train Acc: 0.8733, Test Acc: 0.8861\n",
      "Epoch: 095, Train Acc: 0.8733, Test Acc: 0.8861\n",
      "Epoch: 096, Train Acc: 0.8833, Test Acc: 0.8861\n",
      "Epoch: 097, Train Acc: 0.8767, Test Acc: 0.8861\n",
      "Epoch: 098, Train Acc: 0.8800, Test Acc: 0.8861\n",
      "Epoch: 099, Train Acc: 0.8767, Test Acc: 0.8861\n"
     ]
    }
   ],
   "source": []
  },
  {
   "cell_type": "code",
   "execution_count": null,
   "metadata": {
    "id": "TizuAt8s1hIV"
   },
   "outputs": [],
   "source": []
  }
 ],
 "metadata": {
  "colab": {
   "authorship_tag": "ABX9TyNLA5B1gVZfhbfRrqctUdyM",
   "collapsed_sections": [],
   "name": "pytorch_geometric_molecules_problem.ipynb",
   "provenance": []
  },
  "kernelspec": {
   "display_name": "Python 3 (ipykernel)",
   "language": "python",
   "name": "python3"
  },
  "language_info": {
   "codemirror_mode": {
    "name": "ipython",
    "version": 3
   },
   "file_extension": ".py",
   "mimetype": "text/x-python",
   "name": "python",
   "nbconvert_exporter": "python",
   "pygments_lexer": "ipython3",
   "version": "3.12.3"
  }
 },
 "nbformat": 4,
 "nbformat_minor": 4
}
