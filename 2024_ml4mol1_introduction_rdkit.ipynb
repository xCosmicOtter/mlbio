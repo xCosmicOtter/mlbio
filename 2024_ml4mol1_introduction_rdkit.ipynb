{
  "cells": [
    {
      "cell_type": "markdown",
      "metadata": {
        "cell_id": "16c54816-8eaa-4419-a3c6-0b518d48920d",
        "deepnote_cell_height": 133.60000610351562,
        "deepnote_cell_type": "markdown",
        "id": "I5zRwy5bwUwz"
      },
      "source": [
        "# Machine learning to predict molecule properties : solubility\n",
        "\n"
      ]
    },
    {
      "cell_type": "markdown",
      "metadata": {
        "cell_id": "00001-49762d77-783f-4373-acbd-16a323a21fb1",
        "deepnote_cell_height": 206,
        "deepnote_cell_type": "markdown",
        "id": "eVwVRfWjwUw3"
      },
      "source": [
        "Laurent Cetinsoy\n",
        "\n",
        "The solubility of molecules is an important property in many applications like for drug selection or for compound selection for battery designes (no link to health).\n",
        "\n",
        "Being able to predict the solubility of a molecule from its formula instead of having to make measuring experiment in an important aspect to enhanced fatester molecule discovery.\n",
        "\n",
        "In this notebook we will do basic solubility prediction with machine learning models and rdkit\n"
      ]
    },
    {
      "cell_type": "markdown",
      "metadata": {
        "cell_id": "00002-a8756790-b108-40d2-a92f-8b05e49e6c30",
        "deepnote_cell_height": 88.39999389648438,
        "deepnote_cell_type": "markdown",
        "id": "QAEEPr0RwUw4"
      },
      "source": [
        "Install the python rdkit package with pip or conda\n",
        "\n",
        "cf https://www.rdkit.org/docs/index.html\n",
        "\n",
        "References :\n",
        "\n",
        "- https://www.rdkit.org/docs/GettingStartedInPython.html\n",
        "- https://www.rdkit.org/docs/Cookbook.html\n",
        "\n"
      ]
    },
    {
      "cell_type": "markdown",
      "metadata": {
        "cell_id": "00004-6254cb0b-9327-466e-ba64-cb12e70f4314",
        "deepnote_cell_height": 81.60000610351562,
        "deepnote_cell_type": "markdown",
        "id": "VIreJisSwUw5"
      },
      "source": [
        "# Atom and Molecule representations with Rdkit"
      ]
    },
    {
      "cell_type": "markdown",
      "metadata": {
        "cell_id": "00005-f0885d44-707b-458e-84a9-5807d29a3394",
        "deepnote_cell_height": 88.39999389648438,
        "deepnote_cell_type": "markdown",
        "id": "sRw7zxXlwUw5"
      },
      "source": [
        "Rdkit is a package allowing to work with molecule data and their representation. It is very useful to gather information about atom and molecules. Especially about their physical and chemical properties. In this notebook we will learn about them\n",
        "\n",
        "For basic manipulations, the main submodule is **Chem**\n",
        "\n"
      ]
    },
    {
      "cell_type": "markdown",
      "metadata": {
        "cell_id": "00006-b6601403-90a3-4561-bf59-2fed80399f86",
        "deepnote_cell_height": 100,
        "deepnote_cell_type": "markdown",
        "id": "TYs-WClCqSsy"
      },
      "source": [
        "### Smile representation\n",
        "\n",
        "Smile lets represent molecules with text strings.\n",
        "\n",
        "\n",
        "Like many representations in chemistry we do not represent hydrogene atoms, indeed we can deduce it from the rest of the data.\n",
        "\n",
        "\n",
        "The following code define the Smile Representation of a very simple molecule. We will try to find out more"
      ]
    },
    {
      "cell_type": "code",
      "execution_count": 1,
      "metadata": {
        "id": "quz8JZZmwUw9",
        "colab": {
          "base_uri": "https://localhost:8080/"
        },
        "outputId": "96ff3f1c-886e-4fa2-d585-c9324c03819b"
      },
      "outputs": [
        {
          "output_type": "stream",
          "name": "stdout",
          "text": [
            "Collecting rdkit\n",
            "  Downloading rdkit-2024.3.5-cp310-cp310-manylinux_2_28_x86_64.whl.metadata (3.9 kB)\n",
            "Requirement already satisfied: numpy in /usr/local/lib/python3.10/dist-packages (from rdkit) (1.26.4)\n",
            "Requirement already satisfied: Pillow in /usr/local/lib/python3.10/dist-packages (from rdkit) (10.4.0)\n",
            "Downloading rdkit-2024.3.5-cp310-cp310-manylinux_2_28_x86_64.whl (33.1 MB)\n",
            "\u001b[2K   \u001b[90m━━━━━━━━━━━━━━━━━━━━━━━━━━━━━━━━━━━━━━━━\u001b[0m \u001b[32m33.1/33.1 MB\u001b[0m \u001b[31m35.8 MB/s\u001b[0m eta \u001b[36m0:00:00\u001b[0m\n",
            "\u001b[?25hInstalling collected packages: rdkit\n",
            "Successfully installed rdkit-2024.3.5\n"
          ]
        }
      ],
      "source": [
        "!pip install rdkit"
      ]
    },
    {
      "cell_type": "code",
      "execution_count": 2,
      "metadata": {
        "id": "xYwrD1UAwUw7"
      },
      "outputs": [],
      "source": [
        "smile_molecule = \"C\""
      ]
    },
    {
      "cell_type": "markdown",
      "metadata": {
        "id": "mWMD_Rt9wUw8"
      },
      "source": [
        "From the rdkit.Chem submodule, import MolFromSmiles\n",
        "\n",
        "Using MolFromSmiles, load smile_molecule into a rdkit molecule. Store it in a variable named first_mol"
      ]
    },
    {
      "cell_type": "code",
      "execution_count": 28,
      "metadata": {
        "id": "oWhIfY-iRHlq"
      },
      "outputs": [],
      "source": [
        "import rdkit\n",
        "from rdkit.Chem import MolFromSmiles\n",
        "first_mol = MolFromSmiles(smile_molecule)"
      ]
    },
    {
      "cell_type": "markdown",
      "metadata": {
        "id": "Q69JLySAwUw-"
      },
      "source": [
        "display the type of first_mol"
      ]
    },
    {
      "cell_type": "code",
      "execution_count": 4,
      "metadata": {
        "id": "aio0fTUAwUw-",
        "colab": {
          "base_uri": "https://localhost:8080/"
        },
        "outputId": "33afbc64-4e65-49b4-9d66-c5ba9d7f4a80"
      },
      "outputs": [
        {
          "output_type": "execute_result",
          "data": {
            "text/plain": [
              "rdkit.Chem.rdchem.Mol"
            ]
          },
          "metadata": {},
          "execution_count": 4
        }
      ],
      "source": [
        "type(first_mol)"
      ]
    },
    {
      "cell_type": "markdown",
      "metadata": {
        "id": "SsFWnN87wUw-"
      },
      "source": [
        "With the dir function, list the public methods of the object instance first_mol"
      ]
    },
    {
      "cell_type": "code",
      "execution_count": 5,
      "metadata": {
        "id": "mz8Qf45TwUw_",
        "colab": {
          "base_uri": "https://localhost:8080/"
        },
        "outputId": "71c19603-4910-4e2b-e874-65da6cfd4a4f"
      },
      "outputs": [
        {
          "output_type": "execute_result",
          "data": {
            "text/plain": [
              "['__module__',\n",
              " '__doc__',\n",
              " '__reduce__',\n",
              " '__instance_size__',\n",
              " '__init__',\n",
              " '__copy__',\n",
              " '__deepcopy__',\n",
              " 'GetNumAtoms',\n",
              " 'GetNumHeavyAtoms',\n",
              " 'GetAtomWithIdx',\n",
              " 'GetNumBonds',\n",
              " 'GetBondWithIdx',\n",
              " 'GetNumConformers',\n",
              " 'AddConformer',\n",
              " 'GetConformer',\n",
              " 'GetConformers',\n",
              " 'RemoveAllConformers',\n",
              " 'RemoveConformer',\n",
              " 'GetBondBetweenAtoms',\n",
              " 'HasQuery',\n",
              " 'HasSubstructMatch',\n",
              " 'GetSubstructMatch',\n",
              " 'GetSubstructMatches',\n",
              " 'SetProp',\n",
              " 'SetDoubleProp',\n",
              " 'SetIntProp',\n",
              " 'SetUnsignedProp',\n",
              " 'SetBoolProp',\n",
              " 'HasProp',\n",
              " 'GetProp',\n",
              " 'GetDoubleProp',\n",
              " 'GetIntProp',\n",
              " 'GetUnsignedProp',\n",
              " 'GetBoolProp',\n",
              " 'ClearProp',\n",
              " 'ClearComputedProps',\n",
              " 'UpdatePropertyCache',\n",
              " 'NeedsUpdatePropertyCache',\n",
              " 'GetStereoGroups',\n",
              " 'GetPropNames',\n",
              " 'GetPropsAsDict',\n",
              " 'GetAromaticAtoms',\n",
              " 'GetAtomsMatchingQuery',\n",
              " '__safe_for_unpickling__',\n",
              " '__getstate_manages_dict__',\n",
              " '__getinitargs__',\n",
              " '__getstate__',\n",
              " '__setstate__',\n",
              " 'Debug',\n",
              " 'ToBinary',\n",
              " 'GetRingInfo',\n",
              " 'GetAtoms',\n",
              " 'GetBonds',\n",
              " '_repr_png_',\n",
              " '_repr_svg_',\n",
              " '_repr_html_',\n",
              " '__GetSubstructMatch',\n",
              " '__GetSubstructMatches',\n",
              " '__DebugMol',\n",
              " '__new__',\n",
              " '__weakref__',\n",
              " '__dict__',\n",
              " '__repr__',\n",
              " '__hash__',\n",
              " '__str__',\n",
              " '__getattribute__',\n",
              " '__setattr__',\n",
              " '__delattr__',\n",
              " '__lt__',\n",
              " '__le__',\n",
              " '__eq__',\n",
              " '__ne__',\n",
              " '__gt__',\n",
              " '__ge__',\n",
              " '__reduce_ex__',\n",
              " '__subclasshook__',\n",
              " '__init_subclass__',\n",
              " '__format__',\n",
              " '__sizeof__',\n",
              " '__dir__',\n",
              " '__class__']"
            ]
          },
          "metadata": {},
          "execution_count": 5
        }
      ],
      "source": [
        "first_mol.__dir__()"
      ]
    },
    {
      "cell_type": "markdown",
      "metadata": {
        "id": "mKzPYxSrwUw_"
      },
      "source": [
        "Among all the methods, you should have found a method allowing you to get the number of atoms.\n",
        "Call it and store the result in a variable n_atoms and display it"
      ]
    },
    {
      "cell_type": "code",
      "execution_count": 6,
      "metadata": {
        "id": "i4e8EC88wUxA",
        "colab": {
          "base_uri": "https://localhost:8080/"
        },
        "outputId": "a5e7a788-5906-4ee1-a962-8a341c44dee8"
      },
      "outputs": [
        {
          "output_type": "execute_result",
          "data": {
            "text/plain": [
              "1"
            ]
          },
          "metadata": {},
          "execution_count": 6
        }
      ],
      "source": [
        "n_atoms = len(first_mol.GetAtoms())\n",
        "n_atoms"
      ]
    },
    {
      "cell_type": "markdown",
      "metadata": {
        "id": "Eq0S7eWxySa3"
      },
      "source": [
        "Using Draw from rdkit.Chem module, draw the moldule"
      ]
    },
    {
      "cell_type": "code",
      "execution_count": 9,
      "metadata": {
        "id": "tEifCJ1P0K_S",
        "colab": {
          "base_uri": "https://localhost:8080/",
          "height": 337
        },
        "outputId": "4f589a4a-decd-4fd1-a4bf-93fefcbe15ce"
      },
      "outputs": [
        {
          "output_type": "execute_result",
          "data": {
            "text/plain": [
              "<PIL.PngImagePlugin.PngImageFile image mode=RGB size=300x300>"
            ],
            "image/png": "[encoded data removed]",
            "image/jpeg": "[encoded data removed]"
          },
          "metadata": {},
          "execution_count": 9
        }
      ],
      "source": [
        "from rdkit.Chem import Draw\n",
        "Draw.MolToImage(first_mol)"
      ]
    },
    {
      "cell_type": "markdown",
      "metadata": {
        "id": "tTIX9YumwUxA"
      },
      "source": [
        "Do you see a contradiction between the MolToImage and GetNumOfAtoms ? Can you explain why below\n"
      ]
    },
    {
      "cell_type": "markdown",
      "source": [
        "Because Hydrogen atoms can be easily deduced"
      ],
      "metadata": {
        "id": "jsLjJnstRnmX"
      }
    },
    {
      "cell_type": "markdown",
      "metadata": {
        "id": "vLZ0kRf7yfK9"
      },
      "source": []
    },
    {
      "cell_type": "markdown",
      "metadata": {
        "id": "jGAKND9ywUxA"
      },
      "source": [
        "We will tell rdkit to clone the molecule but to add the hydrogen atoms now.\n",
        "Create a new molecule from first_mol using the method AddHs.\n",
        "Store it in a variable named mol2"
      ]
    },
    {
      "cell_type": "code",
      "execution_count": 14,
      "metadata": {
        "id": "QuVNxAAP0HcJ"
      },
      "outputs": [],
      "source": [
        "from rdkit.Chem import AddHs\n",
        "mol2 = AddHs(first_mol)"
      ]
    },
    {
      "cell_type": "markdown",
      "metadata": {
        "id": "iIkqXXahwUxB"
      },
      "source": [
        "Display the number of Atoms now"
      ]
    },
    {
      "cell_type": "code",
      "execution_count": 15,
      "metadata": {
        "id": "do7LMiPPwUxB",
        "colab": {
          "base_uri": "https://localhost:8080/"
        },
        "outputId": "d71114b3-a286-4518-9eaa-2055eae4ca78"
      },
      "outputs": [
        {
          "output_type": "stream",
          "name": "stdout",
          "text": [
            "5\n"
          ]
        }
      ],
      "source": [
        "print(len(mol2.GetAtoms()))"
      ]
    },
    {
      "cell_type": "markdown",
      "metadata": {
        "id": "a2ygBaWawUxC"
      },
      "source": [
        "Display the number of Heavy Atoms (check the methods from dir output)"
      ]
    },
    {
      "cell_type": "code",
      "execution_count": 16,
      "metadata": {
        "id": "v0phEP3DwUxC",
        "colab": {
          "base_uri": "https://localhost:8080/"
        },
        "outputId": "39b08ea1-121d-4c51-f458-d38286a4b323"
      },
      "outputs": [
        {
          "output_type": "stream",
          "name": "stdout",
          "text": [
            "1\n"
          ]
        }
      ],
      "source": [
        "print(mol2.GetNumHeavyAtoms())"
      ]
    },
    {
      "cell_type": "markdown",
      "metadata": {
        "id": "r4EdaB3fwUxC"
      },
      "source": [
        "Is it coherent ?"
      ]
    },
    {
      "cell_type": "markdown",
      "metadata": {
        "id": "8l9FE-MDwUxC"
      },
      "source": [
        "Yes"
      ]
    },
    {
      "cell_type": "markdown",
      "metadata": {
        "id": "b1QtJcCgwUxC"
      },
      "source": [
        "With the MolToImage function of the Draw package, display the molecule mol2."
      ]
    },
    {
      "cell_type": "code",
      "execution_count": 17,
      "metadata": {
        "id": "6AcuA18TwUxD",
        "colab": {
          "base_uri": "https://localhost:8080/",
          "height": 337
        },
        "outputId": "29dbd43e-df30-4c13-bd3f-14e9ad449aa2"
      },
      "outputs": [
        {
          "output_type": "execute_result",
          "data": {
            "text/plain": [
              "<PIL.PngImagePlugin.PngImageFile image mode=RGB size=300x300>"
            ],
            "image/png": "[encoded data removed]",
            "image/jpeg": "[encoded data removed]"
          },
          "metadata": {},
          "execution_count": 17
        }
      ],
      "source": [
        "Draw.MolToImage(mol2)"
      ]
    },
    {
      "cell_type": "markdown",
      "metadata": {
        "id": "7uGe3cvywUxD"
      },
      "source": [
        "Let's look at a real molecule now.\n",
        "\n",
        "The following string contains the SMILE representation of the paracetamol molecule"
      ]
    },
    {
      "cell_type": "code",
      "execution_count": 18,
      "metadata": {
        "cell_id": "00008-dd610cb0-5abd-406c-a330-2da2d53262a0",
        "deepnote_cell_height": 65.60000610351562,
        "deepnote_cell_type": "code",
        "id": "IwfByzFGwUxD"
      },
      "outputs": [],
      "source": [
        "smile = 'CC(=O)NC1=CC=C(O)C=C1'"
      ]
    },
    {
      "cell_type": "markdown",
      "metadata": {
        "cell_id": "00011-9c66cae2-261b-4ec9-8a7c-e799d7083289",
        "deepnote_cell_height": 52,
        "deepnote_cell_type": "markdown",
        "id": "Nrse6TRswUxD"
      },
      "source": [
        "Using the MolFromSmiles function, create a molecule from the smile representation and print its types"
      ]
    },
    {
      "cell_type": "code",
      "execution_count": 19,
      "metadata": {
        "cell_id": "00012-a5674a89-c239-4173-8f98-778b289a388e",
        "deepnote_cell_height": 80.60000610351562,
        "deepnote_cell_type": "code",
        "deepnote_to_be_reexecuted": false,
        "execution_millis": 86,
        "execution_start": 1649748771633,
        "id": "ccbbFmLOqDJV",
        "source_hash": "38de17fb",
        "colab": {
          "base_uri": "https://localhost:8080/"
        },
        "outputId": "62af3243-80d0-4533-af31-6daba0f295dc"
      },
      "outputs": [
        {
          "output_type": "stream",
          "name": "stdout",
          "text": [
            "<class 'rdkit.Chem.rdchem.Mol'>\n"
          ]
        }
      ],
      "source": [
        "molecule = MolFromSmiles(smile)\n",
        "print(type(molecule))"
      ]
    },
    {
      "cell_type": "markdown",
      "metadata": {
        "cell_id": "00013-96d3ed92-ebee-47ef-b52a-d522509ef206",
        "deepnote_cell_height": 52,
        "deepnote_cell_type": "markdown",
        "id": "3ajzmQ05wUxE"
      },
      "source": [
        "With the MolToImage function of the Draw package, display the molecule"
      ]
    },
    {
      "cell_type": "code",
      "execution_count": 20,
      "metadata": {
        "cell_id": "00014-605ea8c4-c77d-42b1-b28e-8dea04bfadbc",
        "deepnote_cell_height": 65.60000610351562,
        "deepnote_cell_type": "code",
        "id": "8snxocdqsKNJ",
        "colab": {
          "base_uri": "https://localhost:8080/",
          "height": 337
        },
        "outputId": "d0c0ce45-36d9-468b-8db1-257c51c8c467"
      },
      "outputs": [
        {
          "output_type": "execute_result",
          "data": {
            "text/plain": [
              "<PIL.PngImagePlugin.PngImageFile image mode=RGB size=300x300>"
            ],
            "image/png": "[encoded data removed]",
            "image/jpeg": "[encoded data removed]"
          },
          "metadata": {},
          "execution_count": 20
        }
      ],
      "source": [
        "Draw.MolToImage(molecule)"
      ]
    },
    {
      "cell_type": "markdown",
      "metadata": {
        "cell_id": "00015-5cd6b93d-1f02-43ef-9f8e-04a39cc705cc",
        "deepnote_cell_height": 88.39999389648438,
        "deepnote_cell_type": "markdown",
        "id": "OMTaiXrjwUxE"
      },
      "source": [
        "You can get the Number of atoms of the molecules and the list of atoms with the methods GetNumAtoms and GetAtoms.\n",
        "\n",
        "Print the number of atoms of the molecule"
      ]
    },
    {
      "cell_type": "code",
      "execution_count": 21,
      "metadata": {
        "cell_id": "00016-50fde15d-059b-461e-9630-03f8c4e574ad",
        "deepnote_cell_height": 65.60000610351562,
        "deepnote_cell_type": "code",
        "id": "3yiWFSgdsk0j",
        "colab": {
          "base_uri": "https://localhost:8080/"
        },
        "outputId": "ab4cc36e-fd6e-4b88-a202-e200f3826d83"
      },
      "outputs": [
        {
          "output_type": "stream",
          "name": "stdout",
          "text": [
            "11\n"
          ]
        }
      ],
      "source": [
        "print(molecule.GetNumAtoms())"
      ]
    },
    {
      "cell_type": "markdown",
      "metadata": {
        "cell_id": "00018-00e691ed-0a03-4cfa-8e5c-063263a98de9",
        "deepnote_cell_height": 74.39999389648438,
        "deepnote_cell_type": "markdown",
        "id": "YmYhOEP2wUxF"
      },
      "source": [
        "If you compare to the picture, you may see that the number of atoms is not 11. What is the total number and why rdkit do not give the same answer ?"
      ]
    },
    {
      "cell_type": "markdown",
      "metadata": {
        "cell_id": "00019-25619709-2bf7-4ff3-adf2-820f8c26a43c",
        "deepnote_cell_height": 45.600006103515625,
        "deepnote_cell_type": "markdown",
        "id": "kgqHGhvhwUxF"
      },
      "source": [
        "According to the image, there are 20 atoms.\n",
        "Same response, because Hydrogen molecule can be deduced easily"
      ]
    },
    {
      "cell_type": "markdown",
      "metadata": {
        "cell_id": "00020-7277558b-490d-470a-8404-2192d96da77a",
        "deepnote_cell_height": 52,
        "deepnote_cell_type": "markdown",
        "id": "sek4D5_EwUxF"
      },
      "source": [
        "Print the list of each atoms"
      ]
    },
    {
      "cell_type": "code",
      "execution_count": 22,
      "metadata": {
        "cell_id": "00021-e7b9b4e0-1581-43cf-9b54-44fb10982f62",
        "deepnote_cell_height": 65.60000610351562,
        "deepnote_cell_type": "code",
        "id": "4rN88u9dtueQ",
        "colab": {
          "base_uri": "https://localhost:8080/"
        },
        "outputId": "e1fc5d91-b2c5-41c1-d267-fd7ab42fbf58"
      },
      "outputs": [
        {
          "output_type": "stream",
          "name": "stdout",
          "text": [
            "C\n",
            "C\n",
            "O\n",
            "N\n",
            "C\n",
            "C\n",
            "C\n",
            "C\n",
            "O\n",
            "C\n",
            "C\n"
          ]
        }
      ],
      "source": [
        "for atom in molecule.GetAtoms():\n",
        "  print(atom.GetSymbol())"
      ]
    },
    {
      "cell_type": "markdown",
      "metadata": {
        "cell_id": "00023-155b09a9-d08f-4e80-9eb2-c62d528851a6",
        "deepnote_cell_height": 52,
        "deepnote_cell_type": "markdown",
        "id": "GgicgMSEwUxF"
      },
      "source": [
        "Store the number of bonds of the molecule in **n_bond** (look which method can be used for that) and print"
      ]
    },
    {
      "cell_type": "code",
      "execution_count": 23,
      "metadata": {
        "cell_id": "00024-9fd1d703-47c3-4cc4-9aa9-8a0057f07178",
        "deepnote_cell_height": 65.60000610351562,
        "deepnote_cell_type": "code",
        "id": "4BJGnXswtxFV",
        "colab": {
          "base_uri": "https://localhost:8080/"
        },
        "outputId": "4a642811-89b4-4c96-ded1-28c2ea088c28"
      },
      "outputs": [
        {
          "output_type": "stream",
          "name": "stdout",
          "text": [
            "11\n"
          ]
        }
      ],
      "source": [
        "n_bond = molecule.GetNumBonds()\n",
        "print(n_bond)"
      ]
    },
    {
      "cell_type": "markdown",
      "metadata": {
        "cell_id": "00025-8b8879a3-8aae-4161-840d-0772c3665be5",
        "deepnote_cell_height": 52,
        "deepnote_cell_type": "markdown",
        "id": "8SG_3BXgwUxG"
      },
      "source": [
        "For each bond, print if the bond is single or double"
      ]
    },
    {
      "cell_type": "code",
      "execution_count": 30,
      "metadata": {
        "cell_id": "00026-ba0d2166-a420-4bb1-a1a5-8fb9247e0095",
        "deepnote_cell_height": 65.60000610351562,
        "deepnote_cell_type": "code",
        "id": "KvVVVogjwUxG",
        "colab": {
          "base_uri": "https://localhost:8080/"
        },
        "outputId": "2cb8ec11-df6f-455b-994b-87b39737caec"
      },
      "outputs": [
        {
          "output_type": "stream",
          "name": "stdout",
          "text": [
            "SINGLE\n",
            "DOUBLE\n",
            "SINGLE\n",
            "SINGLE\n",
            "AROMATIC\n",
            "AROMATIC\n",
            "AROMATIC\n",
            "SINGLE\n",
            "AROMATIC\n",
            "AROMATIC\n",
            "AROMATIC\n"
          ]
        }
      ],
      "source": [
        "for bond in molecule.GetBonds():\n",
        "    print(bond.GetBondType())\n"
      ]
    },
    {
      "cell_type": "markdown",
      "metadata": {
        "cell_id": "00027-b5995ed8-e09c-4b80-bb8d-b2ca3ea687d6",
        "deepnote_cell_height": 195.1999969482422,
        "deepnote_cell_type": "markdown",
        "id": "5ch4vabFuReu"
      },
      "source": [
        "### Reading molecule data from file\n",
        "\n",
        "Apart SMILES, .SDF and .Mol are also the common formats to save molecules. RDKit provides also functionalities to read these files.\n",
        "\n",
        "\n",
        "Morphine is an opioid agonist used for the relief of moderate to severe acute and chronic pain. The chemical information of this drug can be found at\n",
        "https://go.drugbank.com/structures/small_molecule_drugs/DB00295.sdf\n",
        "\n",
        "\n",
        "Download this file and save it in a folder.\n",
        "\n"
      ]
    },
    {
      "cell_type": "markdown",
      "metadata": {
        "cell_id": "00028-05da9607-1920-4a7d-829f-a3f81d13ecec",
        "deepnote_cell_height": 45.600006103515625,
        "deepnote_cell_type": "markdown",
        "id": "gm_r_DJ_wUxG"
      },
      "source": []
    },
    {
      "cell_type": "markdown",
      "metadata": {
        "cell_id": "00029-1506f2e3-1057-4c79-9643-9cdb2c1d63dd",
        "deepnote_cell_height": 311.20001220703125,
        "deepnote_cell_type": "markdown",
        "id": "tkc4vU55wUxG"
      },
      "source": [
        "\n",
        "SDF files can contain one or more molecules. To load them, you can use SDMolSupplier. When you use it it will return you an object that looks like a list.\n",
        "\n",
        "Read the file that you've downloaded using \"rdkit.Chem.SDMolSupplier\" and get the first molecule (the only one) and  store it in a variable named **morphine**\n",
        "\n"
      ]
    },
    {
      "cell_type": "code",
      "execution_count": 29,
      "metadata": {
        "cell_id": "00030-3b0c6161-258d-4626-971a-1570bbbf42a8",
        "deepnote_cell_height": 65.60000610351562,
        "deepnote_cell_type": "code",
        "id": "CKgWFML8wUxH",
        "owner_user_id": "6493ea36-0370-4fcc-a539-2fe0671931ca"
      },
      "outputs": [],
      "source": [
        "from rdkit.Chem import SDMolSupplier\n",
        "\n",
        "supplier = SDMolSupplier('DB00295.sdf')\n",
        "morphine = next(supplier)"
      ]
    },
    {
      "cell_type": "markdown",
      "metadata": {
        "cell_id": "00031-112c817d-740a-4430-9185-28d4dac58306",
        "deepnote_cell_height": 52,
        "deepnote_cell_type": "markdown",
        "id": "Gi_atYXKwUxH"
      },
      "source": [
        "Display its type"
      ]
    },
    {
      "cell_type": "code",
      "execution_count": 31,
      "metadata": {
        "cell_id": "00032-4a15949d-949a-4501-9e8e-be0a6452502e",
        "deepnote_cell_height": 65.60000610351562,
        "deepnote_cell_type": "code",
        "id": "jyF8QU4DwUxH",
        "colab": {
          "base_uri": "https://localhost:8080/"
        },
        "outputId": "10d1e5cd-5881-4e4b-dcba-2581f19283b2"
      },
      "outputs": [
        {
          "output_type": "stream",
          "name": "stdout",
          "text": [
            "<class 'rdkit.Chem.rdchem.Mol'>\n"
          ]
        }
      ],
      "source": [
        "print(type(morphine))"
      ]
    },
    {
      "cell_type": "markdown",
      "metadata": {
        "cell_id": "00033-54c0e7ba-143f-43e7-902d-8d6ccd2c004d",
        "deepnote_cell_height": 52,
        "deepnote_cell_type": "markdown",
        "id": "u8jnQNRZwUxH"
      },
      "source": [
        "Display the picture of the molecule\n"
      ]
    },
    {
      "cell_type": "code",
      "execution_count": 32,
      "metadata": {
        "cell_id": "00034-29655988-df5c-43dd-b6d7-9ed1f1370a53",
        "deepnote_cell_height": 65.60000610351562,
        "deepnote_cell_type": "code",
        "id": "WWbhtTV2wUxH",
        "colab": {
          "base_uri": "https://localhost:8080/",
          "height": 337
        },
        "outputId": "4513554b-d584-4df4-8b1f-1b95b56526a1"
      },
      "outputs": [
        {
          "output_type": "execute_result",
          "data": {
            "text/plain": [
              "<PIL.PngImagePlugin.PngImageFile image mode=RGB size=300x300>"
            ],
            "image/png": "[encoded data removed]",
            "image/jpeg": "[encoded data removed]"
          },
          "metadata": {},
          "execution_count": 32
        }
      ],
      "source": [
        "Draw.MolToImage(morphine)"
      ]
    },
    {
      "cell_type": "markdown",
      "metadata": {
        "cell_id": "00035-350e5687-2331-4394-8eb7-d38704dd6105",
        "deepnote_cell_height": 52,
        "deepnote_cell_type": "markdown",
        "id": "eZ04Xoy7wUxH"
      },
      "source": [
        "Display the number of atoms and the number of bonds"
      ]
    },
    {
      "cell_type": "code",
      "execution_count": 33,
      "metadata": {
        "cell_id": "00036-ec30068d-0462-4e43-ab3c-528747c4c761",
        "deepnote_cell_height": 65.60000610351562,
        "deepnote_cell_type": "code",
        "id": "XFhGGAORwUxH",
        "colab": {
          "base_uri": "https://localhost:8080/"
        },
        "outputId": "853905d0-c13b-43d8-9afd-7de982219446"
      },
      "outputs": [
        {
          "output_type": "stream",
          "name": "stdout",
          "text": [
            "21\n",
            "25\n"
          ]
        }
      ],
      "source": [
        "print(morphine.GetNumAtoms())\n",
        "print(morphine.GetNumBonds())"
      ]
    },
    {
      "cell_type": "markdown",
      "metadata": {
        "cell_id": "00037-00f838fc-8945-4e34-a80a-1c405e4a213b",
        "deepnote_cell_height": 234.60000610351562,
        "deepnote_cell_type": "markdown",
        "id": "GZXsjZGw3ofC"
      },
      "source": [
        "### Descriptors\n",
        "\n",
        "\n",
        "Molecules are also described by a set of physiochemical descriptors like\n",
        "- the log partition coefficient,\n",
        "- the polar surface area ... that describe the molecule's structure.\n",
        "\n",
        "\n",
        "RDKit provides utilities that allow us to compute descriptor of molecules.\n",
        "\n",
        "The rdkit.Chem.Descriptors module and its sub module let us compute molecule descriptors."
      ]
    },
    {
      "cell_type": "markdown",
      "metadata": {
        "cell_id": "00038-6a0e9066-3a92-4f1d-bd54-4cb670006585",
        "deepnote_cell_height": 74.39999389648438,
        "deepnote_cell_type": "markdown",
        "id": "p4IMXCRJwUxI"
      },
      "source": [
        "the rdkit.Chem.Descriptors module has an attribute name \\_descList, display it. It contains a list of tuple. Each tuple has the name of the physical property, and function associated to it to compute the given property"
      ]
    },
    {
      "cell_type": "code",
      "execution_count": 34,
      "metadata": {
        "cell_id": "00039-f2d00766-465d-4fbc-812f-8de5909e082e",
        "deepnote_cell_height": 65.60000610351562,
        "deepnote_cell_type": "code",
        "id": "A2TEGBucwUxI",
        "colab": {
          "base_uri": "https://localhost:8080/"
        },
        "outputId": "eedc46bf-f42f-4b3c-f207-62cecace7ca0"
      },
      "outputs": [
        {
          "output_type": "stream",
          "name": "stdout",
          "text": [
            "[('MaxAbsEStateIndex', <function MaxAbsEStateIndex at 0x797977cef760>), ('MaxEStateIndex', <function MaxEStateIndex at 0x797977cee8c0>), ('MinAbsEStateIndex', <function MinAbsEStateIndex at 0x797977cef370>), ('MinEStateIndex', <function MinEStateIndex at 0x797977cef250>), ('qed', <function qed at 0x797977b2a560>), ('SPS', <function SPS at 0x797977b2a950>), ('MolWt', <function <lambda> at 0x797977b2af80>), ('HeavyAtomMolWt', <function HeavyAtomMolWt at 0x797977b2b010>), ('ExactMolWt', <function <lambda> at 0x797977b2b0a0>), ('NumValenceElectrons', <function NumValenceElectrons at 0x797977b2b130>), ('NumRadicalElectrons', <function NumRadicalElectrons at 0x797977b2b1c0>), ('MaxPartialCharge', <function MaxPartialCharge at 0x797977b2b2e0>), ('MinPartialCharge', <function MinPartialCharge at 0x797977b2b370>), ('MaxAbsPartialCharge', <function MaxAbsPartialCharge at 0x797977b2b400>), ('MinAbsPartialCharge', <function MinAbsPartialCharge at 0x797977b2b490>), ('FpDensityMorgan1', <function FpDensityMorgan1 at 0x797977b2b5b0>), ('FpDensityMorgan2', <function FpDensityMorgan2 at 0x797977b2b640>), ('FpDensityMorgan3', <function FpDensityMorgan3 at 0x797977b2b6d0>), ('BCUT2D_MWHI', <function BCUT2D_MWHI at 0x797977b2b760>), ('BCUT2D_MWLOW', <function BCUT2D_MWLOW at 0x797977b2b7f0>), ('BCUT2D_CHGHI', <function BCUT2D_CHGHI at 0x797977b2b880>), ('BCUT2D_CHGLO', <function BCUT2D_CHGLO at 0x797977b2b910>), ('BCUT2D_LOGPHI', <function BCUT2D_LOGPHI at 0x797977b2b9a0>), ('BCUT2D_LOGPLOW', <function BCUT2D_LOGPLOW at 0x797977b2ba30>), ('BCUT2D_MRHI', <function BCUT2D_MRHI at 0x797977b2bac0>), ('BCUT2D_MRLOW', <function BCUT2D_MRLOW at 0x797977b2bb50>), ('AvgIpc', <function AvgIpc at 0x797977bc83a0>), ('BalabanJ', <function BalabanJ at 0x797977bc97e0>), ('BertzCT', <function BertzCT at 0x797977bc9ab0>), ('Chi0', <function Chi0 at 0x797977bc8820>), ('Chi0n', <function <lambda> at 0x797977bc9480>), ('Chi0v', <function <lambda> at 0x797977bc9120>), ('Chi1', <function Chi1 at 0x797977bc88b0>), ('Chi1n', <function <lambda> at 0x797977bc9510>), ('Chi1v', <function <lambda> at 0x797977bc91b0>), ('Chi2n', <function <lambda> at 0x797977bc95a0>), ('Chi2v', <function <lambda> at 0x797977bc9240>), ('Chi3n', <function <lambda> at 0x797977bc9630>), ('Chi3v', <function <lambda> at 0x797977bc92d0>), ('Chi4n', <function <lambda> at 0x797977bc96c0>), ('Chi4v', <function <lambda> at 0x797977bc9360>), ('HallKierAlpha', <function <lambda> at 0x797977bc85e0>), ('Ipc', <function Ipc at 0x797977bc8310>), ('Kappa1', <function <lambda> at 0x797977bc8670>), ('Kappa2', <function <lambda> at 0x797977bc8700>), ('Kappa3', <function <lambda> at 0x797977bc8790>), ('LabuteASA', <function <lambda> at 0x797977b29ab0>), ('PEOE_VSA1', <function _InstallDescriptors.<locals>.<lambda> at 0x797977b283a0>), ('PEOE_VSA10', <function _InstallDescriptors.<locals>.<lambda> at 0x797977b288b0>), ('PEOE_VSA11', <function _InstallDescriptors.<locals>.<lambda> at 0x797977b285e0>), ('PEOE_VSA12', <function _InstallDescriptors.<locals>.<lambda> at 0x797977b28b80>), ('PEOE_VSA13', <function _InstallDescriptors.<locals>.<lambda> at 0x797977b28c10>), ('PEOE_VSA14', <function _InstallDescriptors.<locals>.<lambda> at 0x797977b28af0>), ('PEOE_VSA2', <function _InstallDescriptors.<locals>.<lambda> at 0x797977b28430>), ('PEOE_VSA3', <function _InstallDescriptors.<locals>.<lambda> at 0x797977b28790>), ('PEOE_VSA4', <function _InstallDescriptors.<locals>.<lambda> at 0x797977b28160>), ('PEOE_VSA5', <function _InstallDescriptors.<locals>.<lambda> at 0x797977b28670>), ('PEOE_VSA6', <function _InstallDescriptors.<locals>.<lambda> at 0x797977b28700>), ('PEOE_VSA7', <function _InstallDescriptors.<locals>.<lambda> at 0x797977b289d0>), ('PEOE_VSA8', <function _InstallDescriptors.<locals>.<lambda> at 0x797977b28940>), ('PEOE_VSA9', <function _InstallDescriptors.<locals>.<lambda> at 0x797977b28820>), ('SMR_VSA1', <function _InstallDescriptors.<locals>.<lambda> at 0x797977b29900>), ('SMR_VSA10', <function _InstallDescriptors.<locals>.<lambda> at 0x797977b29240>), ('SMR_VSA2', <function _InstallDescriptors.<locals>.<lambda> at 0x797977b297e0>), ('SMR_VSA3', <function _InstallDescriptors.<locals>.<lambda> at 0x797977b29750>), ('SMR_VSA4', <function _InstallDescriptors.<locals>.<lambda> at 0x797977b296c0>), ('SMR_VSA5', <function _InstallDescriptors.<locals>.<lambda> at 0x797977b293f0>), ('SMR_VSA6', <function _InstallDescriptors.<locals>.<lambda> at 0x797977b295a0>), ('SMR_VSA7', <function _InstallDescriptors.<locals>.<lambda> at 0x797977b29510>), ('SMR_VSA8', <function _InstallDescriptors.<locals>.<lambda> at 0x797977b29480>), ('SMR_VSA9', <function _InstallDescriptors.<locals>.<lambda> at 0x797977b29360>), ('SlogP_VSA1', <function _InstallDescriptors.<locals>.<lambda> at 0x797977b291b0>), ('SlogP_VSA10', <function _InstallDescriptors.<locals>.<lambda> at 0x797977b28280>), ('SlogP_VSA11', <function _InstallDescriptors.<locals>.<lambda> at 0x797977b28550>), ('SlogP_VSA12', <function _InstallDescriptors.<locals>.<lambda> at 0x797977b284c0>), ('SlogP_VSA2', <function _InstallDescriptors.<locals>.<lambda> at 0x797977b29120>), ('SlogP_VSA3', <function _InstallDescriptors.<locals>.<lambda> at 0x797977b28040>), ('SlogP_VSA4', <function _InstallDescriptors.<locals>.<lambda> at 0x797977b29000>), ('SlogP_VSA5', <function _InstallDescriptors.<locals>.<lambda> at 0x797977b28f70>), ('SlogP_VSA6', <function _InstallDescriptors.<locals>.<lambda> at 0x797977b28ee0>), ('SlogP_VSA7', <function _InstallDescriptors.<locals>.<lambda> at 0x797977b28310>), ('SlogP_VSA8', <function _InstallDescriptors.<locals>.<lambda> at 0x797977b280d0>), ('SlogP_VSA9', <function _InstallDescriptors.<locals>.<lambda> at 0x797977b281f0>), ('TPSA', <function <lambda> at 0x797977b29c60>), ('EState_VSA1', <function EState_VSA1 at 0x797977bcb2e0>), ('EState_VSA10', <function EState_VSA10 at 0x797977bcb7f0>), ('EState_VSA11', <function EState_VSA11 at 0x797977bcb880>), ('EState_VSA2', <function EState_VSA2 at 0x797977bcb370>), ('EState_VSA3', <function EState_VSA3 at 0x797977bcb400>), ('EState_VSA4', <function EState_VSA4 at 0x797977bcb490>), ('EState_VSA5', <function EState_VSA5 at 0x797977bcb520>), ('EState_VSA6', <function EState_VSA6 at 0x797977bcb5b0>), ('EState_VSA7', <function EState_VSA7 at 0x797977bcb640>), ('EState_VSA8', <function EState_VSA8 at 0x797977bcb6d0>), ('EState_VSA9', <function EState_VSA9 at 0x797977bcb760>), ('VSA_EState1', <function _descriptor_VSA_EState.<locals>.VSA_EState_bin at 0x797977bcad40>), ('VSA_EState10', <function _descriptor_VSA_EState.<locals>.VSA_EState_bin at 0x797977bcb250>), ('VSA_EState2', <function _descriptor_VSA_EState.<locals>.VSA_EState_bin at 0x797977bcadd0>), ('VSA_EState3', <function _descriptor_VSA_EState.<locals>.VSA_EState_bin at 0x797977bcae60>), ('VSA_EState4', <function _descriptor_VSA_EState.<locals>.VSA_EState_bin at 0x797977bcaef0>), ('VSA_EState5', <function _descriptor_VSA_EState.<locals>.VSA_EState_bin at 0x797977bcaf80>), ('VSA_EState6', <function _descriptor_VSA_EState.<locals>.VSA_EState_bin at 0x797977bcb010>), ('VSA_EState7', <function _descriptor_VSA_EState.<locals>.VSA_EState_bin at 0x797977bcb0a0>), ('VSA_EState8', <function _descriptor_VSA_EState.<locals>.VSA_EState_bin at 0x797977bcb130>), ('VSA_EState9', <function _descriptor_VSA_EState.<locals>.VSA_EState_bin at 0x797977bcb1c0>), ('FractionCSP3', <function <lambda> at 0x797977bca320>), ('HeavyAtomCount', <function HeavyAtomCount at 0x797977bca290>), ('NHOHCount', <function <lambda> at 0x797977bca170>), ('NOCount', <function <lambda> at 0x797977bca0e0>), ('NumAliphaticCarbocycles', <function <lambda> at 0x797977bca830>), ('NumAliphaticHeterocycles', <function <lambda> at 0x797977bca7a0>), ('NumAliphaticRings', <function <lambda> at 0x797977bca710>), ('NumAromaticCarbocycles', <function <lambda> at 0x797977bca560>), ('NumAromaticHeterocycles', <function <lambda> at 0x797977bca4d0>), ('NumAromaticRings', <function <lambda> at 0x797977bca3b0>), ('NumHAcceptors', <function <lambda> at 0x797977bc9d80>), ('NumHDonors', <function <lambda> at 0x797977bc9bd0>), ('NumHeteroatoms', <function <lambda> at 0x797977bc9ea0>), ('NumRotatableBonds', <function <lambda> at 0x797977bc9fc0>), ('NumSaturatedCarbocycles', <function <lambda> at 0x797977bca680>), ('NumSaturatedHeterocycles', <function <lambda> at 0x797977bca5f0>), ('NumSaturatedRings', <function <lambda> at 0x797977bca440>), ('RingCount', <function <lambda> at 0x797977bca200>), ('MolLogP', <function <lambda> at 0x797977cefa30>), ('MolMR', <function <lambda> at 0x797977cefd90>), ('fr_Al_COO', <function _LoadPatterns.<locals>.<lambda> at 0x797977ba9120>), ('fr_Al_OH', <function _LoadPatterns.<locals>.<lambda> at 0x797977ba8e50>), ('fr_Al_OH_noTert', <function _LoadPatterns.<locals>.<lambda> at 0x797977bab640>), ('fr_ArN', <function _LoadPatterns.<locals>.<lambda> at 0x797977babb50>), ('fr_Ar_COO', <function _LoadPatterns.<locals>.<lambda> at 0x797977ba91b0>), ('fr_Ar_N', <function _LoadPatterns.<locals>.<lambda> at 0x797977ba97e0>), ('fr_Ar_NH', <function _LoadPatterns.<locals>.<lambda> at 0x797977ba9870>), ('fr_Ar_OH', <function _LoadPatterns.<locals>.<lambda> at 0x797977ba8ee0>), ('fr_COO', <function _LoadPatterns.<locals>.<lambda> at 0x797977ba9240>), ('fr_COO2', <function _LoadPatterns.<locals>.<lambda> at 0x797977ba92d0>), ('fr_C_O', <function _LoadPatterns.<locals>.<lambda> at 0x797977ba8d30>), ('fr_C_O_noCOO', <function _LoadPatterns.<locals>.<lambda> at 0x797977ba8dc0>), ('fr_C_S', <function _LoadPatterns.<locals>.<lambda> at 0x797977baa560>), ('fr_HOCCN', <function _LoadPatterns.<locals>.<lambda> at 0x797977babbe0>), ('fr_Imine', <function _LoadPatterns.<locals>.<lambda> at 0x7979a5ff9750>), ('fr_NH0', <function _LoadPatterns.<locals>.<lambda> at 0x797977ba9750>), ('fr_NH1', <function _LoadPatterns.<locals>.<lambda> at 0x797977ba96c0>), ('fr_NH2', <function _LoadPatterns.<locals>.<lambda> at 0x797977ba9630>), ('fr_N_O', <function _LoadPatterns.<locals>.<lambda> at 0x797977ba9b40>), ('fr_Ndealkylation1', <function _LoadPatterns.<locals>.<lambda> at 0x797977bab910>), ('fr_Ndealkylation2', <function _LoadPatterns.<locals>.<lambda> at 0x797977bab9a0>), ('fr_Nhpyrrole', <function _LoadPatterns.<locals>.<lambda> at 0x797977baa050>), ('fr_SH', <function _LoadPatterns.<locals>.<lambda> at 0x797977baa4d0>), ('fr_aldehyde', <function _LoadPatterns.<locals>.<lambda> at 0x797977ba9510>), ('fr_alkyl_carbamate', <function _LoadPatterns.<locals>.<lambda> at 0x797977baba30>), ('fr_alkyl_halide', <function _LoadPatterns.<locals>.<lambda> at 0x797977baa3b0>), ('fr_allylic_oxid', <function _LoadPatterns.<locals>.<lambda> at 0x797977bab880>), ('fr_amide', <function _LoadPatterns.<locals>.<lambda> at 0x797977ba9e10>), ('fr_amidine', <function _LoadPatterns.<locals>.<lambda> at 0x797977ba9f30>), ('fr_aniline', <function _LoadPatterns.<locals>.<lambda> at 0x797977cac550>), ('fr_aryl_methyl', <function _LoadPatterns.<locals>.<lambda> at 0x797977bab7f0>), ('fr_azide', <function _LoadPatterns.<locals>.<lambda> at 0x797977ba9d80>), ('fr_azo', <function _LoadPatterns.<locals>.<lambda> at 0x797977ba9c60>), ('fr_barbitur', <function _LoadPatterns.<locals>.<lambda> at 0x797977baa7a0>), ('fr_benzene', <function _LoadPatterns.<locals>.<lambda> at 0x797977bab250>), ('fr_benzodiazepine', <function _LoadPatterns.<locals>.<lambda> at 0x797977bab6d0>), ('fr_bicyclic', <function _LoadPatterns.<locals>.<lambda> at 0x797977bab0a0>), ('fr_diazo', <function _LoadPatterns.<locals>.<lambda> at 0x797977ba9cf0>), ('fr_dihydropyridine', <function _LoadPatterns.<locals>.<lambda> at 0x797977bab5b0>), ('fr_epoxide', <function _LoadPatterns.<locals>.<lambda> at 0x797977bab010>), ('fr_ester', <function _LoadPatterns.<locals>.<lambda> at 0x797977ba9090>), ('fr_ether', <function _LoadPatterns.<locals>.<lambda> at 0x797977ba93f0>), ('fr_furan', <function _LoadPatterns.<locals>.<lambda> at 0x797977baa9e0>), ('fr_guanido', <function _LoadPatterns.<locals>.<lambda> at 0x797977ba9fc0>), ('fr_halogen', <function _LoadPatterns.<locals>.<lambda> at 0x797977baa320>), ('fr_hdrzine', <function _LoadPatterns.<locals>.<lambda> at 0x797977ba9a20>), ('fr_hdrzone', <function _LoadPatterns.<locals>.<lambda> at 0x797977ba9990>), ('fr_imidazole', <function _LoadPatterns.<locals>.<lambda> at 0x797977baa950>), ('fr_imide', <function _LoadPatterns.<locals>.<lambda> at 0x797977baa0e0>), ('fr_isocyan', <function _LoadPatterns.<locals>.<lambda> at 0x797977baa170>), ('fr_isothiocyan', <function _LoadPatterns.<locals>.<lambda> at 0x797977baa200>), ('fr_ketone', <function _LoadPatterns.<locals>.<lambda> at 0x797977ba9360>), ('fr_ketone_Topliss', <function _LoadPatterns.<locals>.<lambda> at 0x797977babac0>), ('fr_lactam', <function _LoadPatterns.<locals>.<lambda> at 0x797977baae60>), ('fr_lactone', <function _LoadPatterns.<locals>.<lambda> at 0x797977baaef0>), ('fr_methoxy', <function _LoadPatterns.<locals>.<lambda> at 0x797977ba8f70>), ('fr_morpholine', <function _LoadPatterns.<locals>.<lambda> at 0x797977baadd0>), ('fr_nitrile', <function _LoadPatterns.<locals>.<lambda> at 0x797977ba9900>), ('fr_nitro', <function _LoadPatterns.<locals>.<lambda> at 0x797977ba9bd0>), ('fr_nitro_arom', <function _LoadPatterns.<locals>.<lambda> at 0x797977bab400>), ('fr_nitro_arom_nonortho', <function _LoadPatterns.<locals>.<lambda> at 0x797977bab490>), ('fr_nitroso', <function _LoadPatterns.<locals>.<lambda> at 0x797977ba9ab0>), ('fr_oxazole', <function _LoadPatterns.<locals>.<lambda> at 0x797977baab90>), ('fr_oxime', <function _LoadPatterns.<locals>.<lambda> at 0x797977ba9000>), ('fr_para_hydroxylation', <function _LoadPatterns.<locals>.<lambda> at 0x797977bab760>), ('fr_phenol', <function _LoadPatterns.<locals>.<lambda> at 0x797977ba9480>), ('fr_phenol_noOrthoHbond', <function _LoadPatterns.<locals>.<lambda> at 0x797977bab520>), ('fr_phos_acid', <function _LoadPatterns.<locals>.<lambda> at 0x797977bab2e0>), ('fr_phos_ester', <function _LoadPatterns.<locals>.<lambda> at 0x797977bab370>), ('fr_piperdine', <function _LoadPatterns.<locals>.<lambda> at 0x797977baacb0>), ('fr_piperzine', <function _LoadPatterns.<locals>.<lambda> at 0x797977baad40>), ('fr_priamide', <function _LoadPatterns.<locals>.<lambda> at 0x797977ba9ea0>), ('fr_prisulfonamd', <function _LoadPatterns.<locals>.<lambda> at 0x797977baa710>), ('fr_pyridine', <function _LoadPatterns.<locals>.<lambda> at 0x797977baac20>), ('fr_quatN', <function _LoadPatterns.<locals>.<lambda> at 0x797977ba95a0>), ('fr_sulfide', <function _LoadPatterns.<locals>.<lambda> at 0x797977baa440>), ('fr_sulfonamd', <function _LoadPatterns.<locals>.<lambda> at 0x797977baa680>), ('fr_sulfone', <function _LoadPatterns.<locals>.<lambda> at 0x797977baa5f0>), ('fr_term_acetylene', <function _LoadPatterns.<locals>.<lambda> at 0x797977baa8c0>), ('fr_tetrazole', <function _LoadPatterns.<locals>.<lambda> at 0x797977baaf80>), ('fr_thiazole', <function _LoadPatterns.<locals>.<lambda> at 0x797977baab00>), ('fr_thiocyan', <function _LoadPatterns.<locals>.<lambda> at 0x797977baa290>), ('fr_thiophene', <function _LoadPatterns.<locals>.<lambda> at 0x797977baaa70>), ('fr_unbrch_alkane', <function _LoadPatterns.<locals>.<lambda> at 0x797977bab1c0>), ('fr_urea', <function _LoadPatterns.<locals>.<lambda> at 0x797977baa830>)]\n"
          ]
        }
      ],
      "source": [
        "from rdkit.Chem import Descriptors\n",
        "\n",
        "print(Descriptors._descList)"
      ]
    },
    {
      "cell_type": "markdown",
      "metadata": {
        "cell_id": "00040-d6748b2c-f940-45f6-9911-985577dd18b7",
        "deepnote_cell_height": 74.39999389648438,
        "deepnote_cell_type": "markdown",
        "id": "PmDGS-JGwUxI"
      },
      "source": [
        "Compute all descriptors in the _descList list of the paracetamol molecule using the MoleculeDescriptors.MolecularDescriptorCalculator class"
      ]
    },
    {
      "cell_type": "code",
      "execution_count": 36,
      "metadata": {
        "cell_id": "00041-4b4b6a98-ad3f-4f22-9452-35bc9570b17a",
        "deepnote_cell_height": 65.60000610351562,
        "deepnote_cell_type": "code",
        "id": "dvNfAT_JwUxI",
        "colab": {
          "base_uri": "https://localhost:8080/"
        },
        "outputId": "6bce76da-4118-4053-e73a-da53f9dea62d"
      },
      "outputs": [
        {
          "output_type": "stream",
          "name": "stdout",
          "text": [
            "(10.524468537414966, 10.524468537414966, 0.11510204081632636, -0.11510204081632636, 0.5950261967780849, 9.181818181818182, 151.165, 142.093, 151.063328528, 58, 0, 0.22074743631242583, -0.5079643157925783, 0.5079643157925783, 0.22074743631242583, 1.3636363636363635, 1.9090909090909092, 2.3636363636363638, 16.25468871437965, 10.280190859964755, 1.9280360590359866, -1.9945540738765895, 2.12524757916018, -2.04401131261029, 5.88095478459792, -0.11373578338266109, 1.9291266251851134, 2.7362980721056545, 253.29949758389105, 8.267584713501616, 6.164862962722325, 6.164862962722325, 5.1815405503520555, 3.2490981480278296, 3.2490981480278296, 2.228060242189872, 2.228060242189872, 1.1876733148984595, 1.1876733148984595, 0.7480265991539318, 0.7480265991539318, -1.5099999999999998, 285.51074052739676, 7.595374077976819, 3.0531381005525, 2.292303972882069, 64.66690538413799, 10.423315998847038, 5.749511833283905, 0.0, 5.907179729351506, 0.0, 0.0, 4.794537184071822, 0.0, 0.0, 0.0, 0.0, 24.26546827384644, 12.611123474374185, 0.0, 9.901064578912528, 11.594566004035068, 0.0, 0.0, 0.0, 6.923737199690624, 5.316788604006331, 24.26546827384644, 0.0, 5.749511833283905, 5.316788604006331, 5.687386274683562, 5.749511833283905, 0.0, 11.013707124192212, 4.794537184071822, 0.0, 6.923737199690624, 24.26546827384644, 0.0, 0.0, 0.0, 49.33, 0.0, 4.794537184071822, 0.0, 11.65669156263541, 5.687386274683562, 0.0, 19.056471336613843, 12.13273413692322, 0.0, 5.316788604006331, 5.106527394840706, 0.0, 0.0, 10.524468537414966, 11.460032596371882, 0.6900925925925929, 0.07851095993953194, 6.309537037037037, 0.0, 1.437358276643991, 0.0, 0.125, 11, 2, 3, 0, 0, 0, 1, 0, 1, 2, 2, 3, 1, 0, 0, 0, 1, 1.3505999999999998, 42.41050000000002, 0, 0, 0, 0, 0, 0, 0, 1, 0, 0, 1, 1, 0, 0, 0, 0, 1, 0, 0, 0, 0, 0, 0, 0, 0, 0, 0, 1, 0, 1, 0, 0, 0, 0, 1, 0, 0, 0, 0, 0, 0, 0, 0, 0, 0, 0, 0, 0, 0, 0, 0, 0, 0, 0, 0, 0, 0, 0, 0, 0, 0, 0, 0, 0, 0, 1, 1, 0, 0, 0, 0, 0, 0, 0, 0, 0, 0, 0, 0, 0, 0, 0, 0, 0, 0)\n"
          ]
        },
        {
          "output_type": "stream",
          "name": "stderr",
          "text": [
            "[14:30:15] DEPRECATION WARNING: please use MorganGenerator\n",
            "[14:30:15] DEPRECATION WARNING: please use MorganGenerator\n",
            "[14:30:15] DEPRECATION WARNING: please use MorganGenerator\n"
          ]
        }
      ],
      "source": [
        "from rdkit.ML.Descriptors.MoleculeDescriptors import MolecularDescriptorCalculator\n",
        "\n",
        "\n",
        "calculator = MolecularDescriptorCalculator([x[0] for x in Descriptors._descList])\n",
        "descriptors = calculator.CalcDescriptors(molecule)\n",
        "print(descriptors)"
      ]
    },
    {
      "cell_type": "markdown",
      "metadata": {
        "cell_id": "00042-baa938b8-9cb5-44b3-89d4-4ebaef013670",
        "deepnote_cell_height": 52,
        "deepnote_cell_type": "markdown",
        "id": "vQcACF5K3l1y"
      },
      "source": [
        "Display the names and the fvalues of the descriptors"
      ]
    },
    {
      "cell_type": "code",
      "execution_count": 37,
      "metadata": {
        "cell_id": "00043-32e14f39-ce8b-40d0-a066-0c62d7159053",
        "deepnote_cell_height": 65.60000610351562,
        "deepnote_cell_type": "code",
        "id": "uKfd9F_93urZ",
        "colab": {
          "base_uri": "https://localhost:8080/"
        },
        "outputId": "b18d35b0-1ff5-406b-c89d-a0bca75bc761"
      },
      "outputs": [
        {
          "output_type": "stream",
          "name": "stdout",
          "text": [
            "MaxAbsEStateIndex: 10.524468537414966\n",
            "MaxEStateIndex: 10.524468537414966\n",
            "MinAbsEStateIndex: 0.11510204081632636\n",
            "MinEStateIndex: -0.11510204081632636\n",
            "qed: 0.5950261967780849\n",
            "SPS: 9.181818181818182\n",
            "MolWt: 151.165\n",
            "HeavyAtomMolWt: 142.093\n",
            "ExactMolWt: 151.063328528\n",
            "NumValenceElectrons: 58\n",
            "NumRadicalElectrons: 0\n",
            "MaxPartialCharge: 0.22074743631242583\n",
            "MinPartialCharge: -0.5079643157925783\n",
            "MaxAbsPartialCharge: 0.5079643157925783\n",
            "MinAbsPartialCharge: 0.22074743631242583\n",
            "FpDensityMorgan1: 1.3636363636363635\n",
            "FpDensityMorgan2: 1.9090909090909092\n",
            "FpDensityMorgan3: 2.3636363636363638\n",
            "BCUT2D_MWHI: 16.25468871437965\n",
            "BCUT2D_MWLOW: 10.280190859964755\n",
            "BCUT2D_CHGHI: 1.9280360590359866\n",
            "BCUT2D_CHGLO: -1.9945540738765895\n",
            "BCUT2D_LOGPHI: 2.12524757916018\n",
            "BCUT2D_LOGPLOW: -2.04401131261029\n",
            "BCUT2D_MRHI: 5.88095478459792\n",
            "BCUT2D_MRLOW: -0.11373578338266109\n",
            "AvgIpc: 1.9291266251851134\n",
            "BalabanJ: 2.7362980721056545\n",
            "BertzCT: 253.29949758389105\n",
            "Chi0: 8.267584713501616\n",
            "Chi0n: 6.164862962722325\n",
            "Chi0v: 6.164862962722325\n",
            "Chi1: 5.1815405503520555\n",
            "Chi1n: 3.2490981480278296\n",
            "Chi1v: 3.2490981480278296\n",
            "Chi2n: 2.228060242189872\n",
            "Chi2v: 2.228060242189872\n",
            "Chi3n: 1.1876733148984595\n",
            "Chi3v: 1.1876733148984595\n",
            "Chi4n: 0.7480265991539318\n",
            "Chi4v: 0.7480265991539318\n",
            "HallKierAlpha: -1.5099999999999998\n",
            "Ipc: 285.51074052739676\n",
            "Kappa1: 7.595374077976819\n",
            "Kappa2: 3.0531381005525\n",
            "Kappa3: 2.292303972882069\n",
            "LabuteASA: 64.66690538413799\n",
            "PEOE_VSA1: 10.423315998847038\n",
            "PEOE_VSA10: 5.749511833283905\n",
            "PEOE_VSA11: 0.0\n",
            "PEOE_VSA12: 5.907179729351506\n",
            "PEOE_VSA13: 0.0\n",
            "PEOE_VSA14: 0.0\n",
            "PEOE_VSA2: 4.794537184071822\n",
            "PEOE_VSA3: 0.0\n",
            "PEOE_VSA4: 0.0\n",
            "PEOE_VSA5: 0.0\n",
            "PEOE_VSA6: 0.0\n",
            "PEOE_VSA7: 24.26546827384644\n",
            "PEOE_VSA8: 12.611123474374185\n",
            "PEOE_VSA9: 0.0\n",
            "SMR_VSA1: 9.901064578912528\n",
            "SMR_VSA10: 11.594566004035068\n",
            "SMR_VSA2: 0.0\n",
            "SMR_VSA3: 0.0\n",
            "SMR_VSA4: 0.0\n",
            "SMR_VSA5: 6.923737199690624\n",
            "SMR_VSA6: 5.316788604006331\n",
            "SMR_VSA7: 24.26546827384644\n",
            "SMR_VSA8: 0.0\n",
            "SMR_VSA9: 5.749511833283905\n",
            "SlogP_VSA1: 5.316788604006331\n",
            "SlogP_VSA10: 5.687386274683562\n",
            "SlogP_VSA11: 5.749511833283905\n",
            "SlogP_VSA12: 0.0\n",
            "SlogP_VSA2: 11.013707124192212\n",
            "SlogP_VSA3: 4.794537184071822\n",
            "SlogP_VSA4: 0.0\n",
            "SlogP_VSA5: 6.923737199690624\n",
            "SlogP_VSA6: 24.26546827384644\n",
            "SlogP_VSA7: 0.0\n",
            "SlogP_VSA8: 0.0\n",
            "SlogP_VSA9: 0.0\n",
            "TPSA: 49.33\n",
            "EState_VSA1: 0.0\n",
            "EState_VSA10: 4.794537184071822\n",
            "EState_VSA11: 0.0\n",
            "EState_VSA2: 11.65669156263541\n",
            "EState_VSA3: 5.687386274683562\n",
            "EState_VSA4: 0.0\n",
            "EState_VSA5: 19.056471336613843\n",
            "EState_VSA6: 12.13273413692322\n",
            "EState_VSA7: 0.0\n",
            "EState_VSA8: 5.316788604006331\n",
            "EState_VSA9: 5.106527394840706\n",
            "VSA_EState1: 0.0\n",
            "VSA_EState10: 0.0\n",
            "VSA_EState2: 10.524468537414966\n",
            "VSA_EState3: 11.460032596371882\n",
            "VSA_EState4: 0.6900925925925929\n",
            "VSA_EState5: 0.07851095993953194\n",
            "VSA_EState6: 6.309537037037037\n",
            "VSA_EState7: 0.0\n",
            "VSA_EState8: 1.437358276643991\n",
            "VSA_EState9: 0.0\n",
            "FractionCSP3: 0.125\n",
            "HeavyAtomCount: 11\n",
            "NHOHCount: 2\n",
            "NOCount: 3\n",
            "NumAliphaticCarbocycles: 0\n",
            "NumAliphaticHeterocycles: 0\n",
            "NumAliphaticRings: 0\n",
            "NumAromaticCarbocycles: 1\n",
            "NumAromaticHeterocycles: 0\n",
            "NumAromaticRings: 1\n",
            "NumHAcceptors: 2\n",
            "NumHDonors: 2\n",
            "NumHeteroatoms: 3\n",
            "NumRotatableBonds: 1\n",
            "NumSaturatedCarbocycles: 0\n",
            "NumSaturatedHeterocycles: 0\n",
            "NumSaturatedRings: 0\n",
            "RingCount: 1\n",
            "MolLogP: 1.3505999999999998\n",
            "MolMR: 42.41050000000002\n",
            "fr_Al_COO: 0\n",
            "fr_Al_OH: 0\n",
            "fr_Al_OH_noTert: 0\n",
            "fr_ArN: 0\n",
            "fr_Ar_COO: 0\n",
            "fr_Ar_N: 0\n",
            "fr_Ar_NH: 0\n",
            "fr_Ar_OH: 1\n",
            "fr_COO: 0\n",
            "fr_COO2: 0\n",
            "fr_C_O: 1\n",
            "fr_C_O_noCOO: 1\n",
            "fr_C_S: 0\n",
            "fr_HOCCN: 0\n",
            "fr_Imine: 0\n",
            "fr_NH0: 0\n",
            "fr_NH1: 1\n",
            "fr_NH2: 0\n",
            "fr_N_O: 0\n",
            "fr_Ndealkylation1: 0\n",
            "fr_Ndealkylation2: 0\n",
            "fr_Nhpyrrole: 0\n",
            "fr_SH: 0\n",
            "fr_aldehyde: 0\n",
            "fr_alkyl_carbamate: 0\n",
            "fr_alkyl_halide: 0\n",
            "fr_allylic_oxid: 0\n",
            "fr_amide: 1\n",
            "fr_amidine: 0\n",
            "fr_aniline: 1\n",
            "fr_aryl_methyl: 0\n",
            "fr_azide: 0\n",
            "fr_azo: 0\n",
            "fr_barbitur: 0\n",
            "fr_benzene: 1\n",
            "fr_benzodiazepine: 0\n",
            "fr_bicyclic: 0\n",
            "fr_diazo: 0\n",
            "fr_dihydropyridine: 0\n",
            "fr_epoxide: 0\n",
            "fr_ester: 0\n",
            "fr_ether: 0\n",
            "fr_furan: 0\n",
            "fr_guanido: 0\n",
            "fr_halogen: 0\n",
            "fr_hdrzine: 0\n",
            "fr_hdrzone: 0\n",
            "fr_imidazole: 0\n",
            "fr_imide: 0\n",
            "fr_isocyan: 0\n",
            "fr_isothiocyan: 0\n",
            "fr_ketone: 0\n",
            "fr_ketone_Topliss: 0\n",
            "fr_lactam: 0\n",
            "fr_lactone: 0\n",
            "fr_methoxy: 0\n",
            "fr_morpholine: 0\n",
            "fr_nitrile: 0\n",
            "fr_nitro: 0\n",
            "fr_nitro_arom: 0\n",
            "fr_nitro_arom_nonortho: 0\n",
            "fr_nitroso: 0\n",
            "fr_oxazole: 0\n",
            "fr_oxime: 0\n",
            "fr_para_hydroxylation: 0\n",
            "fr_phenol: 1\n",
            "fr_phenol_noOrthoHbond: 1\n",
            "fr_phos_acid: 0\n",
            "fr_phos_ester: 0\n",
            "fr_piperdine: 0\n",
            "fr_piperzine: 0\n",
            "fr_priamide: 0\n",
            "fr_prisulfonamd: 0\n",
            "fr_pyridine: 0\n",
            "fr_quatN: 0\n",
            "fr_sulfide: 0\n",
            "fr_sulfonamd: 0\n",
            "fr_sulfone: 0\n",
            "fr_term_acetylene: 0\n",
            "fr_tetrazole: 0\n",
            "fr_thiazole: 0\n",
            "fr_thiocyan: 0\n",
            "fr_thiophene: 0\n",
            "fr_unbrch_alkane: 0\n",
            "fr_urea: 0\n"
          ]
        }
      ],
      "source": [
        "for name, value in zip([x[0] for x in Descriptors._descList], descriptors):\n",
        "  print(f\"{name}: {value}\")"
      ]
    },
    {
      "cell_type": "markdown",
      "metadata": {
        "cell_id": "00044-44ab437c-a7e6-40f8-bfc6-d2d620d6a9b8",
        "deepnote_cell_height": 181.1999969482422,
        "deepnote_cell_type": "markdown",
        "id": "gljbmF6p3RX8"
      },
      "source": [
        "### Fingerprinting\n",
        "\n",
        "\n",
        "A chemical structure can be characterized by a set of numerical values known as molecular fingerprints. They may be 2D Fragment-based fingerprints presented by bit arrays of 0s and 1s wherein each bit position indicates the presence or absence of structural fragments.\n",
        "\n",
        "\n",
        "The RDKit has a variety of built-in functionality for generating molecular fingerprints and then using them to calculate molecular similarity. In this exercise, we will generate the fingerprints for parcetamol and aspirin that are two popular drugs used for pains.\n",
        "\n",
        "\n"
      ]
    },
    {
      "cell_type": "code",
      "execution_count": null,
      "metadata": {
        "cell_id": "00045-47b42508-c127-4cc3-a856-3af0b9214962",
        "deepnote_cell_height": 65.60000610351562,
        "deepnote_cell_type": "code",
        "id": "iqNa6jcFwUxJ"
      },
      "outputs": [],
      "source": []
    },
    {
      "cell_type": "markdown",
      "metadata": {
        "cell_id": "00046-96542193-46de-4bf5-bbe3-c2b33cd02541",
        "deepnote_cell_height": 52,
        "deepnote_cell_type": "markdown",
        "id": "HxkjJfp_wUxJ"
      },
      "source": [
        "\n",
        "With the help of rdkit.Chem.AllChem.GetMorganFingerprintAsBitVect, compute its fingerprint as a bit vector."
      ]
    },
    {
      "cell_type": "code",
      "execution_count": 41,
      "metadata": {
        "cell_id": "00047-cf47357b-427d-44e5-8f85-3277a29492a2",
        "deepnote_cell_height": 65.60000610351562,
        "deepnote_cell_type": "code",
        "id": "jxHqsfuTwUxJ",
        "colab": {
          "base_uri": "https://localhost:8080/"
        },
        "outputId": "3976421a-fdce-4e93-ebe9-699a469ad805"
      },
      "outputs": [
        {
          "output_type": "stream",
          "name": "stdout",
          "text": [
            "<rdkit.DataStructs.cDataStructs.ExplicitBitVect object at 0x797977b567a0>\n"
          ]
        },
        {
          "output_type": "stream",
          "name": "stderr",
          "text": [
            "[14:40:46] DEPRECATION WARNING: please use MorganGenerator\n"
          ]
        }
      ],
      "source": [
        "from rdkit.Chem import AllChem\n",
        "\n",
        "fingerprint = AllChem.GetMorganFingerprintAsBitVect(molecule, 2, nBits=1024)\n",
        "print(fingerprint)"
      ]
    },
    {
      "cell_type": "markdown",
      "metadata": {
        "cell_id": "00049-124332bb-7155-4988-99ea-8aae57250921",
        "deepnote_cell_height": 52,
        "deepnote_cell_type": "markdown",
        "id": "3Sy7vELwwUxJ"
      },
      "source": [
        "Display its type"
      ]
    },
    {
      "cell_type": "code",
      "execution_count": 42,
      "metadata": {
        "cell_id": "00050-7ebe67af-4ad8-4efc-91c8-5cf4471d7f20",
        "deepnote_cell_height": 65.60000610351562,
        "deepnote_cell_type": "code",
        "id": "Tev1bWf7uEod",
        "colab": {
          "base_uri": "https://localhost:8080/"
        },
        "outputId": "831d64e2-db95-4924-8939-e8cc1fd235d4"
      },
      "outputs": [
        {
          "output_type": "stream",
          "name": "stdout",
          "text": [
            "<class 'rdkit.DataStructs.cDataStructs.ExplicitBitVect'>\n"
          ]
        }
      ],
      "source": [
        "print(type(fingerprint))"
      ]
    },
    {
      "cell_type": "markdown",
      "metadata": {
        "cell_id": "00051-a3e0e354-4c07-42c0-a881-bbd85e4e20d9",
        "deepnote_cell_height": 52,
        "deepnote_cell_type": "markdown",
        "id": "hdnCb6wbwUxJ"
      },
      "source": [
        "With the DataStructs module convert it to a numpy vector and display it shape and display it"
      ]
    },
    {
      "cell_type": "code",
      "execution_count": 43,
      "metadata": {
        "cell_id": "00052-23e08096-90d3-4f5c-862f-f305fc122eac",
        "deepnote_cell_height": 65.60000610351562,
        "deepnote_cell_type": "code",
        "id": "HwbR6a7WwUxK",
        "colab": {
          "base_uri": "https://localhost:8080/"
        },
        "outputId": "d29f44d5-e928-4bbc-d7d5-eb9ebd893ea1"
      },
      "outputs": [
        {
          "output_type": "stream",
          "name": "stdout",
          "text": [
            "(1024,)\n",
            "[0. 0. 0. ... 0. 0. 0.]\n"
          ]
        }
      ],
      "source": [
        "from rdkit import DataStructs\n",
        "import numpy as np\n",
        "\n",
        "np_fingerprint = np.zeros((1,))\n",
        "DataStructs.ConvertToNumpyArray(fingerprint, np_fingerprint)\n",
        "print(np_fingerprint.shape)\n",
        "print(np_fingerprint)"
      ]
    },
    {
      "cell_type": "markdown",
      "metadata": {
        "cell_id": "00053-d445fd97-c635-4ec2-8fa0-eec4143e799a",
        "deepnote_cell_height": 74.39999389648438,
        "deepnote_cell_type": "markdown",
        "id": "tI6Y7KjewUxK"
      },
      "source": [
        "Create a function smiles_to_np_morganfingerprinting which takes a smile representation and gives back the numpy version of the morgan finger_printing"
      ]
    },
    {
      "cell_type": "code",
      "execution_count": 49,
      "metadata": {
        "cell_id": "00054-8b86b5b2-d2b3-4a57-b843-50c58c961a81",
        "deepnote_cell_height": 65.60000610351562,
        "deepnote_cell_type": "code",
        "id": "JmmrCUJZwUxK"
      },
      "outputs": [],
      "source": [
        "def smiles_to_np_morganfingerprinting(smile):\n",
        "  mol = MolFromSmiles(smile)\n",
        "  # Changed to return the RDKit fingerprint object directly\n",
        "  fingerprint = AllChem.GetMorganFingerprintAsBitVect(mol, 2, nBits=1024)\n",
        "  return fingerprint"
      ]
    },
    {
      "cell_type": "markdown",
      "metadata": {
        "cell_id": "00056-45dc63e1-8d6d-4952-8617-c619691e31f4",
        "deepnote_cell_height": 52,
        "deepnote_cell_type": "markdown",
        "id": "fOUdg2zOwUxK"
      },
      "source": [
        "Compute the morgan finger printing of the aspirin (CC(=O)OC1=CC=CC=C1C(O)=O) and paracetamol (CC(=O)NC1=CC=C(O)C=C1)"
      ]
    },
    {
      "cell_type": "code",
      "execution_count": 50,
      "metadata": {
        "cell_id": "00057-8320ba76-7bf0-457f-a278-5f08ed8055bc",
        "deepnote_cell_height": 65.60000610351562,
        "deepnote_cell_type": "code",
        "id": "QIQGbJsBwUxK",
        "colab": {
          "base_uri": "https://localhost:8080/"
        },
        "outputId": "69b468c8-e61d-48cd-8d7e-44c75cd73c6e"
      },
      "outputs": [
        {
          "output_type": "stream",
          "name": "stdout",
          "text": [
            "Aspirin : <rdkit.DataStructs.cDataStructs.ExplicitBitVect object at 0x797977b56810>\n",
            "Paracetamol : <rdkit.DataStructs.cDataStructs.ExplicitBitVect object at 0x797977b56730>\n"
          ]
        },
        {
          "output_type": "stream",
          "name": "stderr",
          "text": [
            "[14:45:02] DEPRECATION WARNING: please use MorganGenerator\n",
            "[14:45:02] DEPRECATION WARNING: please use MorganGenerator\n"
          ]
        }
      ],
      "source": [
        "aspirin_fingerprint = smiles_to_np_morganfingerprinting('CC(=O)OC1=CC=CC=C1C(O)=O')\n",
        "paracetamol_fingerprint = smiles_to_np_morganfingerprinting('CC(=O)NC1=CC=C(O)C=C1')\n",
        "\n",
        "print(\"Aspirin :\", aspirin_fingerprint)\n",
        "print(\"Paracetamol :\", paracetamol_fingerprint)"
      ]
    },
    {
      "cell_type": "markdown",
      "metadata": {
        "cell_id": "00058-61ab6f17-0a6c-47b7-9c52-7822f70728b2",
        "deepnote_cell_height": 52,
        "deepnote_cell_type": "markdown",
        "id": "ToJe2WjywUxK"
      },
      "source": [
        "Compute the DiceSimilarity of the two molecules"
      ]
    },
    {
      "cell_type": "code",
      "execution_count": 51,
      "metadata": {
        "id": "vEe5vFQzPbz0",
        "colab": {
          "base_uri": "https://localhost:8080/"
        },
        "outputId": "e6843081-9556-4f02-8bee-56fec546bdb4"
      },
      "outputs": [
        {
          "output_type": "stream",
          "name": "stdout",
          "text": [
            "Dice Similarity: 0.37209302325581395\n"
          ]
        }
      ],
      "source": [
        "from rdkit import DataStructs\n",
        "\n",
        "dice_similarity = DataStructs.DiceSimilarity(aspirin_fingerprint, paracetamol_fingerprint)\n",
        "print(f\"Dice Similarity: {dice_similarity}\")"
      ]
    },
    {
      "cell_type": "code",
      "source": [],
      "metadata": {
        "id": "rB1teZWDY7n9"
      },
      "execution_count": null,
      "outputs": []
    }
  ],
  "metadata": {
    "colab": {
      "provenance": []
    },
    "deepnote": {},
    "deepnote_execution_queue": [],
    "deepnote_notebook_id": "18337e56-066d-4992-8ec7-3b37b0c030cc",
    "kernelspec": {
      "display_name": "Python 3 (ipykernel)",
      "language": "python",
      "name": "python3"
    },
    "language_info": {
      "codemirror_mode": {
        "name": "ipython",
        "version": 3
      },
      "file_extension": ".py",
      "mimetype": "text/x-python",
      "name": "python",
      "nbconvert_exporter": "python",
      "pygments_lexer": "ipython3",
      "version": "3.12.3"
    }
  },
  "nbformat": 4,
  "nbformat_minor": 0
}